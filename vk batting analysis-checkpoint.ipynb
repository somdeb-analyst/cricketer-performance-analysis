{
 "cells": [
  {
   "cell_type": "markdown",
   "id": "bfb7de26",
   "metadata": {},
   "source": [
    "# Import necessary packages"
   ]
  },
  {
   "cell_type": "code",
   "execution_count": 1,
   "id": "8b79fe8c",
   "metadata": {
    "scrolled": false
   },
   "outputs": [],
   "source": [
    "import numpy as np\n",
    "import pandas as pd\n",
    "import matplotlib.pyplot as plt\n",
    "import seaborn as sns\n",
    "%matplotlib inline\n",
    "from warnings import filterwarnings\n",
    "filterwarnings('ignore')"
   ]
  },
  {
   "cell_type": "markdown",
   "id": "4dd253d1",
   "metadata": {},
   "source": [
    "# Load the batsman csv dataset"
   ]
  },
  {
   "cell_type": "code",
   "execution_count": 2,
   "id": "5a46bd05",
   "metadata": {
    "scrolled": false
   },
   "outputs": [
    {
     "data": {
      "text/html": [
       "<div>\n",
       "<style scoped>\n",
       "    .dataframe tbody tr th:only-of-type {\n",
       "        vertical-align: middle;\n",
       "    }\n",
       "\n",
       "    .dataframe tbody tr th {\n",
       "        vertical-align: top;\n",
       "    }\n",
       "\n",
       "    .dataframe thead th {\n",
       "        text-align: right;\n",
       "    }\n",
       "</style>\n",
       "<table border=\"1\" class=\"dataframe\">\n",
       "  <thead>\n",
       "    <tr style=\"text-align: right;\">\n",
       "      <th></th>\n",
       "      <th>RunsScored</th>\n",
       "      <th>BallsFaced</th>\n",
       "      <th>BattingPosition</th>\n",
       "      <th>Dismissal</th>\n",
       "      <th>Inning</th>\n",
       "      <th>Opposition</th>\n",
       "      <th>Year</th>\n",
       "    </tr>\n",
       "  </thead>\n",
       "  <tbody>\n",
       "    <tr>\n",
       "      <th>0</th>\n",
       "      <td>12</td>\n",
       "      <td>22</td>\n",
       "      <td>2</td>\n",
       "      <td>LBW</td>\n",
       "      <td>1</td>\n",
       "      <td>Sri Lanka</td>\n",
       "      <td>2008</td>\n",
       "    </tr>\n",
       "    <tr>\n",
       "      <th>1</th>\n",
       "      <td>37</td>\n",
       "      <td>67</td>\n",
       "      <td>2</td>\n",
       "      <td>Caught</td>\n",
       "      <td>2</td>\n",
       "      <td>Sri Lanka</td>\n",
       "      <td>2008</td>\n",
       "    </tr>\n",
       "    <tr>\n",
       "      <th>2</th>\n",
       "      <td>25</td>\n",
       "      <td>38</td>\n",
       "      <td>1</td>\n",
       "      <td>Run out</td>\n",
       "      <td>1</td>\n",
       "      <td>Sri Lanka</td>\n",
       "      <td>2008</td>\n",
       "    </tr>\n",
       "    <tr>\n",
       "      <th>3</th>\n",
       "      <td>54</td>\n",
       "      <td>66</td>\n",
       "      <td>1</td>\n",
       "      <td>Bowled</td>\n",
       "      <td>1</td>\n",
       "      <td>Sri Lanka</td>\n",
       "      <td>2008</td>\n",
       "    </tr>\n",
       "    <tr>\n",
       "      <th>4</th>\n",
       "      <td>31</td>\n",
       "      <td>46</td>\n",
       "      <td>1</td>\n",
       "      <td>LBW</td>\n",
       "      <td>2</td>\n",
       "      <td>Sri Lanka</td>\n",
       "      <td>2008</td>\n",
       "    </tr>\n",
       "    <tr>\n",
       "      <th>...</th>\n",
       "      <td>...</td>\n",
       "      <td>...</td>\n",
       "      <td>...</td>\n",
       "      <td>...</td>\n",
       "      <td>...</td>\n",
       "      <td>...</td>\n",
       "      <td>...</td>\n",
       "    </tr>\n",
       "    <tr>\n",
       "      <th>203</th>\n",
       "      <td>140</td>\n",
       "      <td>107</td>\n",
       "      <td>3</td>\n",
       "      <td>Stumped</td>\n",
       "      <td>2</td>\n",
       "      <td>West Indies</td>\n",
       "      <td>2018</td>\n",
       "    </tr>\n",
       "    <tr>\n",
       "      <th>204</th>\n",
       "      <td>157</td>\n",
       "      <td>129</td>\n",
       "      <td>3</td>\n",
       "      <td>NO</td>\n",
       "      <td>1</td>\n",
       "      <td>West Indies</td>\n",
       "      <td>2018</td>\n",
       "    </tr>\n",
       "    <tr>\n",
       "      <th>205</th>\n",
       "      <td>107</td>\n",
       "      <td>119</td>\n",
       "      <td>3</td>\n",
       "      <td>Bowled</td>\n",
       "      <td>2</td>\n",
       "      <td>West Indies</td>\n",
       "      <td>2018</td>\n",
       "    </tr>\n",
       "    <tr>\n",
       "      <th>206</th>\n",
       "      <td>16</td>\n",
       "      <td>17</td>\n",
       "      <td>3</td>\n",
       "      <td>Caught</td>\n",
       "      <td>1</td>\n",
       "      <td>West Indies</td>\n",
       "      <td>2018</td>\n",
       "    </tr>\n",
       "    <tr>\n",
       "      <th>207</th>\n",
       "      <td>33</td>\n",
       "      <td>29</td>\n",
       "      <td>3</td>\n",
       "      <td>NO</td>\n",
       "      <td>2</td>\n",
       "      <td>West Indies</td>\n",
       "      <td>2018</td>\n",
       "    </tr>\n",
       "  </tbody>\n",
       "</table>\n",
       "<p>208 rows × 7 columns</p>\n",
       "</div>"
      ],
      "text/plain": [
       "     RunsScored  BallsFaced  BattingPosition Dismissal  Inning   Opposition  \\\n",
       "0            12          22                2       LBW       1    Sri Lanka   \n",
       "1            37          67                2    Caught       2    Sri Lanka   \n",
       "2            25          38                1   Run out       1    Sri Lanka   \n",
       "3            54          66                1    Bowled       1    Sri Lanka   \n",
       "4            31          46                1       LBW       2    Sri Lanka   \n",
       "..          ...         ...              ...       ...     ...          ...   \n",
       "203         140         107                3   Stumped       2  West Indies   \n",
       "204         157         129                3        NO       1  West Indies   \n",
       "205         107         119                3    Bowled       2  West Indies   \n",
       "206          16          17                3    Caught       1  West Indies   \n",
       "207          33          29                3        NO       2  West Indies   \n",
       "\n",
       "     Year  \n",
       "0    2008  \n",
       "1    2008  \n",
       "2    2008  \n",
       "3    2008  \n",
       "4    2008  \n",
       "..    ...  \n",
       "203  2018  \n",
       "204  2018  \n",
       "205  2018  \n",
       "206  2018  \n",
       "207  2018  \n",
       "\n",
       "[208 rows x 7 columns]"
      ]
     },
     "execution_count": 2,
     "metadata": {},
     "output_type": "execute_result"
    }
   ],
   "source": [
    "df=pd.read_csv(\"C:/Users/somde/Downloads/Batsman.csv\")\n",
    "df"
   ]
  },
  {
   "cell_type": "markdown",
   "id": "f2eaad81",
   "metadata": {},
   "source": [
    "# View the first 5 rows of the dataset"
   ]
  },
  {
   "cell_type": "code",
   "execution_count": 3,
   "id": "3c7d3414",
   "metadata": {
    "scrolled": false
   },
   "outputs": [
    {
     "data": {
      "text/html": [
       "<div>\n",
       "<style scoped>\n",
       "    .dataframe tbody tr th:only-of-type {\n",
       "        vertical-align: middle;\n",
       "    }\n",
       "\n",
       "    .dataframe tbody tr th {\n",
       "        vertical-align: top;\n",
       "    }\n",
       "\n",
       "    .dataframe thead th {\n",
       "        text-align: right;\n",
       "    }\n",
       "</style>\n",
       "<table border=\"1\" class=\"dataframe\">\n",
       "  <thead>\n",
       "    <tr style=\"text-align: right;\">\n",
       "      <th></th>\n",
       "      <th>RunsScored</th>\n",
       "      <th>BallsFaced</th>\n",
       "      <th>BattingPosition</th>\n",
       "      <th>Dismissal</th>\n",
       "      <th>Inning</th>\n",
       "      <th>Opposition</th>\n",
       "      <th>Year</th>\n",
       "    </tr>\n",
       "  </thead>\n",
       "  <tbody>\n",
       "    <tr>\n",
       "      <th>0</th>\n",
       "      <td>12</td>\n",
       "      <td>22</td>\n",
       "      <td>2</td>\n",
       "      <td>LBW</td>\n",
       "      <td>1</td>\n",
       "      <td>Sri Lanka</td>\n",
       "      <td>2008</td>\n",
       "    </tr>\n",
       "    <tr>\n",
       "      <th>1</th>\n",
       "      <td>37</td>\n",
       "      <td>67</td>\n",
       "      <td>2</td>\n",
       "      <td>Caught</td>\n",
       "      <td>2</td>\n",
       "      <td>Sri Lanka</td>\n",
       "      <td>2008</td>\n",
       "    </tr>\n",
       "    <tr>\n",
       "      <th>2</th>\n",
       "      <td>25</td>\n",
       "      <td>38</td>\n",
       "      <td>1</td>\n",
       "      <td>Run out</td>\n",
       "      <td>1</td>\n",
       "      <td>Sri Lanka</td>\n",
       "      <td>2008</td>\n",
       "    </tr>\n",
       "    <tr>\n",
       "      <th>3</th>\n",
       "      <td>54</td>\n",
       "      <td>66</td>\n",
       "      <td>1</td>\n",
       "      <td>Bowled</td>\n",
       "      <td>1</td>\n",
       "      <td>Sri Lanka</td>\n",
       "      <td>2008</td>\n",
       "    </tr>\n",
       "    <tr>\n",
       "      <th>4</th>\n",
       "      <td>31</td>\n",
       "      <td>46</td>\n",
       "      <td>1</td>\n",
       "      <td>LBW</td>\n",
       "      <td>2</td>\n",
       "      <td>Sri Lanka</td>\n",
       "      <td>2008</td>\n",
       "    </tr>\n",
       "  </tbody>\n",
       "</table>\n",
       "</div>"
      ],
      "text/plain": [
       "   RunsScored  BallsFaced  BattingPosition Dismissal  Inning Opposition  Year\n",
       "0          12          22                2       LBW       1  Sri Lanka  2008\n",
       "1          37          67                2    Caught       2  Sri Lanka  2008\n",
       "2          25          38                1   Run out       1  Sri Lanka  2008\n",
       "3          54          66                1    Bowled       1  Sri Lanka  2008\n",
       "4          31          46                1       LBW       2  Sri Lanka  2008"
      ]
     },
     "execution_count": 3,
     "metadata": {},
     "output_type": "execute_result"
    }
   ],
   "source": [
    "df.head()"
   ]
  },
  {
   "cell_type": "markdown",
   "id": "a9bbafc7",
   "metadata": {},
   "source": [
    "# Check the datatypes of the columns"
   ]
  },
  {
   "cell_type": "code",
   "execution_count": 4,
   "id": "751f5d83",
   "metadata": {
    "scrolled": true
   },
   "outputs": [
    {
     "name": "stdout",
     "output_type": "stream",
     "text": [
      "<class 'pandas.core.frame.DataFrame'>\n",
      "RangeIndex: 208 entries, 0 to 207\n",
      "Data columns (total 7 columns):\n",
      " #   Column           Non-Null Count  Dtype \n",
      "---  ------           --------------  ----- \n",
      " 0   RunsScored       208 non-null    int64 \n",
      " 1   BallsFaced       208 non-null    int64 \n",
      " 2   BattingPosition  208 non-null    int64 \n",
      " 3   Dismissal        208 non-null    object\n",
      " 4   Inning           208 non-null    int64 \n",
      " 5   Opposition       208 non-null    object\n",
      " 6   Year             208 non-null    int64 \n",
      "dtypes: int64(5), object(2)\n",
      "memory usage: 11.5+ KB\n"
     ]
    }
   ],
   "source": [
    "df.info()"
   ]
  },
  {
   "cell_type": "markdown",
   "id": "395ce7ae",
   "metadata": {},
   "source": [
    "# Dismissal, Inning, Opposition, Year and Batting position are DISCRETE\n",
    "# Runs Scored and balls faced are CONTINUOUS"
   ]
  },
  {
   "cell_type": "markdown",
   "id": "686e439b",
   "metadata": {},
   "source": [
    "# Check the dimensions of the data"
   ]
  },
  {
   "cell_type": "code",
   "execution_count": 5,
   "id": "601e68c3",
   "metadata": {
    "scrolled": false
   },
   "outputs": [
    {
     "data": {
      "text/plain": [
       "(208, 7)"
      ]
     },
     "execution_count": 5,
     "metadata": {},
     "output_type": "execute_result"
    }
   ],
   "source": [
    "df.shape"
   ]
  },
  {
   "cell_type": "code",
   "execution_count": 6,
   "id": "42a84c3b",
   "metadata": {
    "scrolled": false
   },
   "outputs": [
    {
     "data": {
      "text/plain": [
       "208"
      ]
     },
     "execution_count": 6,
     "metadata": {},
     "output_type": "execute_result"
    }
   ],
   "source": [
    "df.shape[0]"
   ]
  },
  {
   "cell_type": "code",
   "execution_count": 7,
   "id": "83b0815b",
   "metadata": {
    "scrolled": false
   },
   "outputs": [
    {
     "data": {
      "text/plain": [
       "7"
      ]
     },
     "execution_count": 7,
     "metadata": {},
     "output_type": "execute_result"
    }
   ],
   "source": [
    "df.shape[1]"
   ]
  },
  {
   "cell_type": "code",
   "execution_count": 8,
   "id": "ddd81c83",
   "metadata": {
    "scrolled": false
   },
   "outputs": [
    {
     "data": {
      "text/plain": [
       "Index(['RunsScored', 'BallsFaced', 'BattingPosition', 'Dismissal', 'Inning',\n",
       "       'Opposition', 'Year'],\n",
       "      dtype='object')"
      ]
     },
     "execution_count": 8,
     "metadata": {},
     "output_type": "execute_result"
    }
   ],
   "source": [
    "df.columns"
   ]
  },
  {
   "cell_type": "code",
   "execution_count": 9,
   "id": "a777e53e",
   "metadata": {
    "scrolled": false
   },
   "outputs": [
    {
     "data": {
      "text/plain": [
       "7"
      ]
     },
     "execution_count": 9,
     "metadata": {},
     "output_type": "execute_result"
    }
   ],
   "source": [
    "len(df.columns)"
   ]
  },
  {
   "cell_type": "markdown",
   "id": "3270e79b",
   "metadata": {},
   "source": [
    "# Check for null values if any"
   ]
  },
  {
   "cell_type": "code",
   "execution_count": 10,
   "id": "6f42ad69",
   "metadata": {
    "scrolled": true
   },
   "outputs": [
    {
     "data": {
      "text/plain": [
       "RunsScored         0\n",
       "BallsFaced         0\n",
       "BattingPosition    0\n",
       "Dismissal          0\n",
       "Inning             0\n",
       "Opposition         0\n",
       "Year               0\n",
       "dtype: int64"
      ]
     },
     "execution_count": 10,
     "metadata": {},
     "output_type": "execute_result"
    }
   ],
   "source": [
    "df.isnull().sum()"
   ]
  },
  {
   "cell_type": "markdown",
   "id": "30975e4e",
   "metadata": {},
   "source": [
    "# Check the statistical summary of the data"
   ]
  },
  {
   "cell_type": "code",
   "execution_count": 11,
   "id": "d10e1548",
   "metadata": {
    "scrolled": false
   },
   "outputs": [
    {
     "data": {
      "text/html": [
       "<div>\n",
       "<style scoped>\n",
       "    .dataframe tbody tr th:only-of-type {\n",
       "        vertical-align: middle;\n",
       "    }\n",
       "\n",
       "    .dataframe tbody tr th {\n",
       "        vertical-align: top;\n",
       "    }\n",
       "\n",
       "    .dataframe thead th {\n",
       "        text-align: right;\n",
       "    }\n",
       "</style>\n",
       "<table border=\"1\" class=\"dataframe\">\n",
       "  <thead>\n",
       "    <tr style=\"text-align: right;\">\n",
       "      <th></th>\n",
       "      <th>RunsScored</th>\n",
       "      <th>BallsFaced</th>\n",
       "      <th>BattingPosition</th>\n",
       "      <th>Inning</th>\n",
       "      <th>Year</th>\n",
       "    </tr>\n",
       "  </thead>\n",
       "  <tbody>\n",
       "    <tr>\n",
       "      <th>count</th>\n",
       "      <td>208.000000</td>\n",
       "      <td>208.000000</td>\n",
       "      <td>208.000000</td>\n",
       "      <td>208.000000</td>\n",
       "      <td>208.000000</td>\n",
       "    </tr>\n",
       "    <tr>\n",
       "      <th>mean</th>\n",
       "      <td>49.192308</td>\n",
       "      <td>52.961538</td>\n",
       "      <td>3.264423</td>\n",
       "      <td>1.567308</td>\n",
       "      <td>2013.240385</td>\n",
       "    </tr>\n",
       "    <tr>\n",
       "      <th>std</th>\n",
       "      <td>43.797641</td>\n",
       "      <td>39.850548</td>\n",
       "      <td>0.781602</td>\n",
       "      <td>0.496644</td>\n",
       "      <td>2.750477</td>\n",
       "    </tr>\n",
       "    <tr>\n",
       "      <th>min</th>\n",
       "      <td>0.000000</td>\n",
       "      <td>0.000000</td>\n",
       "      <td>1.000000</td>\n",
       "      <td>1.000000</td>\n",
       "      <td>2008.000000</td>\n",
       "    </tr>\n",
       "    <tr>\n",
       "      <th>25%</th>\n",
       "      <td>10.750000</td>\n",
       "      <td>18.000000</td>\n",
       "      <td>3.000000</td>\n",
       "      <td>1.000000</td>\n",
       "      <td>2011.000000</td>\n",
       "    </tr>\n",
       "    <tr>\n",
       "      <th>50%</th>\n",
       "      <td>35.000000</td>\n",
       "      <td>46.500000</td>\n",
       "      <td>3.000000</td>\n",
       "      <td>2.000000</td>\n",
       "      <td>2013.000000</td>\n",
       "    </tr>\n",
       "    <tr>\n",
       "      <th>75%</th>\n",
       "      <td>81.250000</td>\n",
       "      <td>83.250000</td>\n",
       "      <td>3.000000</td>\n",
       "      <td>2.000000</td>\n",
       "      <td>2015.000000</td>\n",
       "    </tr>\n",
       "    <tr>\n",
       "      <th>max</th>\n",
       "      <td>183.000000</td>\n",
       "      <td>159.000000</td>\n",
       "      <td>7.000000</td>\n",
       "      <td>2.000000</td>\n",
       "      <td>2018.000000</td>\n",
       "    </tr>\n",
       "  </tbody>\n",
       "</table>\n",
       "</div>"
      ],
      "text/plain": [
       "       RunsScored  BallsFaced  BattingPosition      Inning         Year\n",
       "count  208.000000  208.000000       208.000000  208.000000   208.000000\n",
       "mean    49.192308   52.961538         3.264423    1.567308  2013.240385\n",
       "std     43.797641   39.850548         0.781602    0.496644     2.750477\n",
       "min      0.000000    0.000000         1.000000    1.000000  2008.000000\n",
       "25%     10.750000   18.000000         3.000000    1.000000  2011.000000\n",
       "50%     35.000000   46.500000         3.000000    2.000000  2013.000000\n",
       "75%     81.250000   83.250000         3.000000    2.000000  2015.000000\n",
       "max    183.000000  159.000000         7.000000    2.000000  2018.000000"
      ]
     },
     "execution_count": 11,
     "metadata": {},
     "output_type": "execute_result"
    }
   ],
   "source": [
    "df.describe()"
   ]
  },
  {
   "cell_type": "code",
   "execution_count": 12,
   "id": "c15c0a10",
   "metadata": {
    "scrolled": false
   },
   "outputs": [
    {
     "data": {
      "text/html": [
       "<div>\n",
       "<style scoped>\n",
       "    .dataframe tbody tr th:only-of-type {\n",
       "        vertical-align: middle;\n",
       "    }\n",
       "\n",
       "    .dataframe tbody tr th {\n",
       "        vertical-align: top;\n",
       "    }\n",
       "\n",
       "    .dataframe thead th {\n",
       "        text-align: right;\n",
       "    }\n",
       "</style>\n",
       "<table border=\"1\" class=\"dataframe\">\n",
       "  <thead>\n",
       "    <tr style=\"text-align: right;\">\n",
       "      <th></th>\n",
       "      <th>RunsScored</th>\n",
       "      <th>BallsFaced</th>\n",
       "      <th>BattingPosition</th>\n",
       "      <th>Dismissal</th>\n",
       "      <th>Inning</th>\n",
       "      <th>Opposition</th>\n",
       "      <th>Year</th>\n",
       "    </tr>\n",
       "  </thead>\n",
       "  <tbody>\n",
       "    <tr>\n",
       "      <th>count</th>\n",
       "      <td>208.000000</td>\n",
       "      <td>208.000000</td>\n",
       "      <td>208.000000</td>\n",
       "      <td>208</td>\n",
       "      <td>208.000000</td>\n",
       "      <td>208</td>\n",
       "      <td>208.000000</td>\n",
       "    </tr>\n",
       "    <tr>\n",
       "      <th>unique</th>\n",
       "      <td>NaN</td>\n",
       "      <td>NaN</td>\n",
       "      <td>NaN</td>\n",
       "      <td>7</td>\n",
       "      <td>NaN</td>\n",
       "      <td>12</td>\n",
       "      <td>NaN</td>\n",
       "    </tr>\n",
       "    <tr>\n",
       "      <th>top</th>\n",
       "      <td>NaN</td>\n",
       "      <td>NaN</td>\n",
       "      <td>NaN</td>\n",
       "      <td>Caught</td>\n",
       "      <td>NaN</td>\n",
       "      <td>Sri Lanka</td>\n",
       "      <td>NaN</td>\n",
       "    </tr>\n",
       "    <tr>\n",
       "      <th>freq</th>\n",
       "      <td>NaN</td>\n",
       "      <td>NaN</td>\n",
       "      <td>NaN</td>\n",
       "      <td>121</td>\n",
       "      <td>NaN</td>\n",
       "      <td>45</td>\n",
       "      <td>NaN</td>\n",
       "    </tr>\n",
       "    <tr>\n",
       "      <th>mean</th>\n",
       "      <td>49.192308</td>\n",
       "      <td>52.961538</td>\n",
       "      <td>3.264423</td>\n",
       "      <td>NaN</td>\n",
       "      <td>1.567308</td>\n",
       "      <td>NaN</td>\n",
       "      <td>2013.240385</td>\n",
       "    </tr>\n",
       "    <tr>\n",
       "      <th>std</th>\n",
       "      <td>43.797641</td>\n",
       "      <td>39.850548</td>\n",
       "      <td>0.781602</td>\n",
       "      <td>NaN</td>\n",
       "      <td>0.496644</td>\n",
       "      <td>NaN</td>\n",
       "      <td>2.750477</td>\n",
       "    </tr>\n",
       "    <tr>\n",
       "      <th>min</th>\n",
       "      <td>0.000000</td>\n",
       "      <td>0.000000</td>\n",
       "      <td>1.000000</td>\n",
       "      <td>NaN</td>\n",
       "      <td>1.000000</td>\n",
       "      <td>NaN</td>\n",
       "      <td>2008.000000</td>\n",
       "    </tr>\n",
       "    <tr>\n",
       "      <th>25%</th>\n",
       "      <td>10.750000</td>\n",
       "      <td>18.000000</td>\n",
       "      <td>3.000000</td>\n",
       "      <td>NaN</td>\n",
       "      <td>1.000000</td>\n",
       "      <td>NaN</td>\n",
       "      <td>2011.000000</td>\n",
       "    </tr>\n",
       "    <tr>\n",
       "      <th>50%</th>\n",
       "      <td>35.000000</td>\n",
       "      <td>46.500000</td>\n",
       "      <td>3.000000</td>\n",
       "      <td>NaN</td>\n",
       "      <td>2.000000</td>\n",
       "      <td>NaN</td>\n",
       "      <td>2013.000000</td>\n",
       "    </tr>\n",
       "    <tr>\n",
       "      <th>75%</th>\n",
       "      <td>81.250000</td>\n",
       "      <td>83.250000</td>\n",
       "      <td>3.000000</td>\n",
       "      <td>NaN</td>\n",
       "      <td>2.000000</td>\n",
       "      <td>NaN</td>\n",
       "      <td>2015.000000</td>\n",
       "    </tr>\n",
       "    <tr>\n",
       "      <th>max</th>\n",
       "      <td>183.000000</td>\n",
       "      <td>159.000000</td>\n",
       "      <td>7.000000</td>\n",
       "      <td>NaN</td>\n",
       "      <td>2.000000</td>\n",
       "      <td>NaN</td>\n",
       "      <td>2018.000000</td>\n",
       "    </tr>\n",
       "  </tbody>\n",
       "</table>\n",
       "</div>"
      ],
      "text/plain": [
       "        RunsScored  BallsFaced  BattingPosition Dismissal      Inning  \\\n",
       "count   208.000000  208.000000       208.000000       208  208.000000   \n",
       "unique         NaN         NaN              NaN         7         NaN   \n",
       "top            NaN         NaN              NaN    Caught         NaN   \n",
       "freq           NaN         NaN              NaN       121         NaN   \n",
       "mean     49.192308   52.961538         3.264423       NaN    1.567308   \n",
       "std      43.797641   39.850548         0.781602       NaN    0.496644   \n",
       "min       0.000000    0.000000         1.000000       NaN    1.000000   \n",
       "25%      10.750000   18.000000         3.000000       NaN    1.000000   \n",
       "50%      35.000000   46.500000         3.000000       NaN    2.000000   \n",
       "75%      81.250000   83.250000         3.000000       NaN    2.000000   \n",
       "max     183.000000  159.000000         7.000000       NaN    2.000000   \n",
       "\n",
       "       Opposition         Year  \n",
       "count         208   208.000000  \n",
       "unique         12          NaN  \n",
       "top     Sri Lanka          NaN  \n",
       "freq           45          NaN  \n",
       "mean          NaN  2013.240385  \n",
       "std           NaN     2.750477  \n",
       "min           NaN  2008.000000  \n",
       "25%           NaN  2011.000000  \n",
       "50%           NaN  2013.000000  \n",
       "75%           NaN  2015.000000  \n",
       "max           NaN  2018.000000  "
      ]
     },
     "execution_count": 12,
     "metadata": {},
     "output_type": "execute_result"
    }
   ],
   "source": [
    "df.describe(include='all')"
   ]
  },
  {
   "cell_type": "code",
   "execution_count": 13,
   "id": "3a09b029",
   "metadata": {
    "scrolled": false
   },
   "outputs": [
    {
     "data": {
      "text/html": [
       "<div>\n",
       "<style scoped>\n",
       "    .dataframe tbody tr th:only-of-type {\n",
       "        vertical-align: middle;\n",
       "    }\n",
       "\n",
       "    .dataframe tbody tr th {\n",
       "        vertical-align: top;\n",
       "    }\n",
       "\n",
       "    .dataframe thead th {\n",
       "        text-align: right;\n",
       "    }\n",
       "</style>\n",
       "<table border=\"1\" class=\"dataframe\">\n",
       "  <thead>\n",
       "    <tr style=\"text-align: right;\">\n",
       "      <th></th>\n",
       "      <th>Dismissal</th>\n",
       "      <th>Opposition</th>\n",
       "    </tr>\n",
       "  </thead>\n",
       "  <tbody>\n",
       "    <tr>\n",
       "      <th>count</th>\n",
       "      <td>208</td>\n",
       "      <td>208</td>\n",
       "    </tr>\n",
       "    <tr>\n",
       "      <th>unique</th>\n",
       "      <td>7</td>\n",
       "      <td>12</td>\n",
       "    </tr>\n",
       "    <tr>\n",
       "      <th>top</th>\n",
       "      <td>Caught</td>\n",
       "      <td>Sri Lanka</td>\n",
       "    </tr>\n",
       "    <tr>\n",
       "      <th>freq</th>\n",
       "      <td>121</td>\n",
       "      <td>45</td>\n",
       "    </tr>\n",
       "  </tbody>\n",
       "</table>\n",
       "</div>"
      ],
      "text/plain": [
       "       Dismissal Opposition\n",
       "count        208        208\n",
       "unique         7         12\n",
       "top       Caught  Sri Lanka\n",
       "freq         121         45"
      ]
     },
     "execution_count": 13,
     "metadata": {},
     "output_type": "execute_result"
    }
   ],
   "source": [
    "df.describe(include='object')"
   ]
  },
  {
   "cell_type": "markdown",
   "id": "451b7f0f",
   "metadata": {},
   "source": [
    "# What is the percentage for KOHLI being NOT OUT?"
   ]
  },
  {
   "cell_type": "code",
   "execution_count": 14,
   "id": "360525e5",
   "metadata": {
    "scrolled": false
   },
   "outputs": [
    {
     "data": {
      "text/html": [
       "<div>\n",
       "<style scoped>\n",
       "    .dataframe tbody tr th:only-of-type {\n",
       "        vertical-align: middle;\n",
       "    }\n",
       "\n",
       "    .dataframe tbody tr th {\n",
       "        vertical-align: top;\n",
       "    }\n",
       "\n",
       "    .dataframe thead th {\n",
       "        text-align: right;\n",
       "    }\n",
       "</style>\n",
       "<table border=\"1\" class=\"dataframe\">\n",
       "  <thead>\n",
       "    <tr style=\"text-align: right;\">\n",
       "      <th></th>\n",
       "      <th>RunsScored</th>\n",
       "      <th>BallsFaced</th>\n",
       "      <th>BattingPosition</th>\n",
       "      <th>Dismissal</th>\n",
       "      <th>Inning</th>\n",
       "      <th>Opposition</th>\n",
       "      <th>Year</th>\n",
       "    </tr>\n",
       "  </thead>\n",
       "  <tbody>\n",
       "    <tr>\n",
       "      <th>0</th>\n",
       "      <td>12</td>\n",
       "      <td>22</td>\n",
       "      <td>2</td>\n",
       "      <td>LBW</td>\n",
       "      <td>1</td>\n",
       "      <td>Sri Lanka</td>\n",
       "      <td>2008</td>\n",
       "    </tr>\n",
       "    <tr>\n",
       "      <th>1</th>\n",
       "      <td>37</td>\n",
       "      <td>67</td>\n",
       "      <td>2</td>\n",
       "      <td>Caught</td>\n",
       "      <td>2</td>\n",
       "      <td>Sri Lanka</td>\n",
       "      <td>2008</td>\n",
       "    </tr>\n",
       "    <tr>\n",
       "      <th>2</th>\n",
       "      <td>25</td>\n",
       "      <td>38</td>\n",
       "      <td>1</td>\n",
       "      <td>Run out</td>\n",
       "      <td>1</td>\n",
       "      <td>Sri Lanka</td>\n",
       "      <td>2008</td>\n",
       "    </tr>\n",
       "    <tr>\n",
       "      <th>3</th>\n",
       "      <td>54</td>\n",
       "      <td>66</td>\n",
       "      <td>1</td>\n",
       "      <td>Bowled</td>\n",
       "      <td>1</td>\n",
       "      <td>Sri Lanka</td>\n",
       "      <td>2008</td>\n",
       "    </tr>\n",
       "    <tr>\n",
       "      <th>4</th>\n",
       "      <td>31</td>\n",
       "      <td>46</td>\n",
       "      <td>1</td>\n",
       "      <td>LBW</td>\n",
       "      <td>2</td>\n",
       "      <td>Sri Lanka</td>\n",
       "      <td>2008</td>\n",
       "    </tr>\n",
       "  </tbody>\n",
       "</table>\n",
       "</div>"
      ],
      "text/plain": [
       "   RunsScored  BallsFaced  BattingPosition Dismissal  Inning Opposition  Year\n",
       "0          12          22                2       LBW       1  Sri Lanka  2008\n",
       "1          37          67                2    Caught       2  Sri Lanka  2008\n",
       "2          25          38                1   Run out       1  Sri Lanka  2008\n",
       "3          54          66                1    Bowled       1  Sri Lanka  2008\n",
       "4          31          46                1       LBW       2  Sri Lanka  2008"
      ]
     },
     "execution_count": 14,
     "metadata": {},
     "output_type": "execute_result"
    }
   ],
   "source": [
    "df.head()"
   ]
  },
  {
   "cell_type": "code",
   "execution_count": 15,
   "id": "1d6999da",
   "metadata": {
    "scrolled": false
   },
   "outputs": [
    {
     "data": {
      "text/html": [
       "<div>\n",
       "<style scoped>\n",
       "    .dataframe tbody tr th:only-of-type {\n",
       "        vertical-align: middle;\n",
       "    }\n",
       "\n",
       "    .dataframe tbody tr th {\n",
       "        vertical-align: top;\n",
       "    }\n",
       "\n",
       "    .dataframe thead th {\n",
       "        text-align: right;\n",
       "    }\n",
       "</style>\n",
       "<table border=\"1\" class=\"dataframe\">\n",
       "  <thead>\n",
       "    <tr style=\"text-align: right;\">\n",
       "      <th></th>\n",
       "      <th>RunsScored</th>\n",
       "      <th>BallsFaced</th>\n",
       "      <th>BattingPosition</th>\n",
       "      <th>Dismissal</th>\n",
       "      <th>Inning</th>\n",
       "      <th>Opposition</th>\n",
       "      <th>Year</th>\n",
       "    </tr>\n",
       "  </thead>\n",
       "  <tbody>\n",
       "    <tr>\n",
       "      <th>0</th>\n",
       "      <td>12</td>\n",
       "      <td>22</td>\n",
       "      <td>2</td>\n",
       "      <td>LBW</td>\n",
       "      <td>1</td>\n",
       "      <td>Sri Lanka</td>\n",
       "      <td>2008</td>\n",
       "    </tr>\n",
       "    <tr>\n",
       "      <th>1</th>\n",
       "      <td>37</td>\n",
       "      <td>67</td>\n",
       "      <td>2</td>\n",
       "      <td>Caught</td>\n",
       "      <td>2</td>\n",
       "      <td>Sri Lanka</td>\n",
       "      <td>2008</td>\n",
       "    </tr>\n",
       "    <tr>\n",
       "      <th>2</th>\n",
       "      <td>25</td>\n",
       "      <td>38</td>\n",
       "      <td>1</td>\n",
       "      <td>Run out</td>\n",
       "      <td>1</td>\n",
       "      <td>Sri Lanka</td>\n",
       "      <td>2008</td>\n",
       "    </tr>\n",
       "    <tr>\n",
       "      <th>3</th>\n",
       "      <td>54</td>\n",
       "      <td>66</td>\n",
       "      <td>1</td>\n",
       "      <td>Bowled</td>\n",
       "      <td>1</td>\n",
       "      <td>Sri Lanka</td>\n",
       "      <td>2008</td>\n",
       "    </tr>\n",
       "    <tr>\n",
       "      <th>4</th>\n",
       "      <td>31</td>\n",
       "      <td>46</td>\n",
       "      <td>1</td>\n",
       "      <td>LBW</td>\n",
       "      <td>2</td>\n",
       "      <td>Sri Lanka</td>\n",
       "      <td>2008</td>\n",
       "    </tr>\n",
       "    <tr>\n",
       "      <th>...</th>\n",
       "      <td>...</td>\n",
       "      <td>...</td>\n",
       "      <td>...</td>\n",
       "      <td>...</td>\n",
       "      <td>...</td>\n",
       "      <td>...</td>\n",
       "      <td>...</td>\n",
       "    </tr>\n",
       "    <tr>\n",
       "      <th>203</th>\n",
       "      <td>140</td>\n",
       "      <td>107</td>\n",
       "      <td>3</td>\n",
       "      <td>Stumped</td>\n",
       "      <td>2</td>\n",
       "      <td>West Indies</td>\n",
       "      <td>2018</td>\n",
       "    </tr>\n",
       "    <tr>\n",
       "      <th>204</th>\n",
       "      <td>157</td>\n",
       "      <td>129</td>\n",
       "      <td>3</td>\n",
       "      <td>NO</td>\n",
       "      <td>1</td>\n",
       "      <td>West Indies</td>\n",
       "      <td>2018</td>\n",
       "    </tr>\n",
       "    <tr>\n",
       "      <th>205</th>\n",
       "      <td>107</td>\n",
       "      <td>119</td>\n",
       "      <td>3</td>\n",
       "      <td>Bowled</td>\n",
       "      <td>2</td>\n",
       "      <td>West Indies</td>\n",
       "      <td>2018</td>\n",
       "    </tr>\n",
       "    <tr>\n",
       "      <th>206</th>\n",
       "      <td>16</td>\n",
       "      <td>17</td>\n",
       "      <td>3</td>\n",
       "      <td>Caught</td>\n",
       "      <td>1</td>\n",
       "      <td>West Indies</td>\n",
       "      <td>2018</td>\n",
       "    </tr>\n",
       "    <tr>\n",
       "      <th>207</th>\n",
       "      <td>33</td>\n",
       "      <td>29</td>\n",
       "      <td>3</td>\n",
       "      <td>NO</td>\n",
       "      <td>2</td>\n",
       "      <td>West Indies</td>\n",
       "      <td>2018</td>\n",
       "    </tr>\n",
       "  </tbody>\n",
       "</table>\n",
       "<p>208 rows × 7 columns</p>\n",
       "</div>"
      ],
      "text/plain": [
       "     RunsScored  BallsFaced  BattingPosition Dismissal  Inning   Opposition  \\\n",
       "0            12          22                2       LBW       1    Sri Lanka   \n",
       "1            37          67                2    Caught       2    Sri Lanka   \n",
       "2            25          38                1   Run out       1    Sri Lanka   \n",
       "3            54          66                1    Bowled       1    Sri Lanka   \n",
       "4            31          46                1       LBW       2    Sri Lanka   \n",
       "..          ...         ...              ...       ...     ...          ...   \n",
       "203         140         107                3   Stumped       2  West Indies   \n",
       "204         157         129                3        NO       1  West Indies   \n",
       "205         107         119                3    Bowled       2  West Indies   \n",
       "206          16          17                3    Caught       1  West Indies   \n",
       "207          33          29                3        NO       2  West Indies   \n",
       "\n",
       "     Year  \n",
       "0    2008  \n",
       "1    2008  \n",
       "2    2008  \n",
       "3    2008  \n",
       "4    2008  \n",
       "..    ...  \n",
       "203  2018  \n",
       "204  2018  \n",
       "205  2018  \n",
       "206  2018  \n",
       "207  2018  \n",
       "\n",
       "[208 rows x 7 columns]"
      ]
     },
     "execution_count": 15,
     "metadata": {},
     "output_type": "execute_result"
    }
   ],
   "source": [
    "df"
   ]
  },
  {
   "cell_type": "markdown",
   "id": "88a978c0",
   "metadata": {},
   "source": [
    "# the relevant column is the dismissal column....it is discrete....so the chart which will give the percentages is the PIE CHART"
   ]
  },
  {
   "cell_type": "code",
   "execution_count": 16,
   "id": "ae3b988b",
   "metadata": {
    "scrolled": false
   },
   "outputs": [
    {
     "data": {
      "text/plain": [
       "Caught        121\n",
       "NO             37\n",
       "Bowled         21\n",
       "LBW            12\n",
       "Run out        12\n",
       "Stumped         4\n",
       "Hit wicket      1\n",
       "Name: Dismissal, dtype: int64"
      ]
     },
     "execution_count": 16,
     "metadata": {},
     "output_type": "execute_result"
    }
   ],
   "source": [
    "df['Dismissal'].value_counts()   # information available in the dismissal field"
   ]
  },
  {
   "cell_type": "code",
   "execution_count": 17,
   "id": "8d3cd0a8",
   "metadata": {
    "scrolled": false
   },
   "outputs": [
    {
     "data": {
      "text/plain": [
       "Index(['Caught', 'NO', 'Bowled', 'LBW', 'Run out', 'Stumped', 'Hit wicket'], dtype='object')"
      ]
     },
     "execution_count": 17,
     "metadata": {},
     "output_type": "execute_result"
    }
   ],
   "source": [
    "df['Dismissal'].value_counts().index   # to get the labels "
   ]
  },
  {
   "cell_type": "code",
   "execution_count": 18,
   "id": "7793e299",
   "metadata": {
    "scrolled": false
   },
   "outputs": [
    {
     "data": {
      "image/png": "[encoded data removed]",
      "text/plain": [
       "<Figure size 900x900 with 1 Axes>"
      ]
     },
     "metadata": {},
     "output_type": "display_data"
    }
   ],
   "source": [
    "plt.figure(figsize=(9,9))\n",
    "plt.pie(df['Dismissal'].value_counts(),labels=df['Dismissal'].value_counts().index,autopct='%1.1f%%',explode=(0,0.3,0,0,0,0,0))\n",
    "plt.show()"
   ]
  },
  {
   "cell_type": "markdown",
   "id": "7ee065ba",
   "metadata": {},
   "source": [
    "# Show the percentage for Kohli getting out Bowled."
   ]
  },
  {
   "cell_type": "code",
   "execution_count": 19,
   "id": "f92d4db1",
   "metadata": {
    "scrolled": false
   },
   "outputs": [
    {
     "data": {
      "text/html": [
       "<div>\n",
       "<style scoped>\n",
       "    .dataframe tbody tr th:only-of-type {\n",
       "        vertical-align: middle;\n",
       "    }\n",
       "\n",
       "    .dataframe tbody tr th {\n",
       "        vertical-align: top;\n",
       "    }\n",
       "\n",
       "    .dataframe thead th {\n",
       "        text-align: right;\n",
       "    }\n",
       "</style>\n",
       "<table border=\"1\" class=\"dataframe\">\n",
       "  <thead>\n",
       "    <tr style=\"text-align: right;\">\n",
       "      <th></th>\n",
       "      <th>RunsScored</th>\n",
       "      <th>BallsFaced</th>\n",
       "      <th>BattingPosition</th>\n",
       "      <th>Dismissal</th>\n",
       "      <th>Inning</th>\n",
       "      <th>Opposition</th>\n",
       "      <th>Year</th>\n",
       "    </tr>\n",
       "  </thead>\n",
       "  <tbody>\n",
       "    <tr>\n",
       "      <th>0</th>\n",
       "      <td>12</td>\n",
       "      <td>22</td>\n",
       "      <td>2</td>\n",
       "      <td>LBW</td>\n",
       "      <td>1</td>\n",
       "      <td>Sri Lanka</td>\n",
       "      <td>2008</td>\n",
       "    </tr>\n",
       "    <tr>\n",
       "      <th>1</th>\n",
       "      <td>37</td>\n",
       "      <td>67</td>\n",
       "      <td>2</td>\n",
       "      <td>Caught</td>\n",
       "      <td>2</td>\n",
       "      <td>Sri Lanka</td>\n",
       "      <td>2008</td>\n",
       "    </tr>\n",
       "    <tr>\n",
       "      <th>2</th>\n",
       "      <td>25</td>\n",
       "      <td>38</td>\n",
       "      <td>1</td>\n",
       "      <td>Run out</td>\n",
       "      <td>1</td>\n",
       "      <td>Sri Lanka</td>\n",
       "      <td>2008</td>\n",
       "    </tr>\n",
       "    <tr>\n",
       "      <th>3</th>\n",
       "      <td>54</td>\n",
       "      <td>66</td>\n",
       "      <td>1</td>\n",
       "      <td>Bowled</td>\n",
       "      <td>1</td>\n",
       "      <td>Sri Lanka</td>\n",
       "      <td>2008</td>\n",
       "    </tr>\n",
       "    <tr>\n",
       "      <th>4</th>\n",
       "      <td>31</td>\n",
       "      <td>46</td>\n",
       "      <td>1</td>\n",
       "      <td>LBW</td>\n",
       "      <td>2</td>\n",
       "      <td>Sri Lanka</td>\n",
       "      <td>2008</td>\n",
       "    </tr>\n",
       "  </tbody>\n",
       "</table>\n",
       "</div>"
      ],
      "text/plain": [
       "   RunsScored  BallsFaced  BattingPosition Dismissal  Inning Opposition  Year\n",
       "0          12          22                2       LBW       1  Sri Lanka  2008\n",
       "1          37          67                2    Caught       2  Sri Lanka  2008\n",
       "2          25          38                1   Run out       1  Sri Lanka  2008\n",
       "3          54          66                1    Bowled       1  Sri Lanka  2008\n",
       "4          31          46                1       LBW       2  Sri Lanka  2008"
      ]
     },
     "execution_count": 19,
     "metadata": {},
     "output_type": "execute_result"
    }
   ],
   "source": [
    "df.head()"
   ]
  },
  {
   "cell_type": "code",
   "execution_count": 20,
   "id": "9cd07e1d",
   "metadata": {
    "scrolled": false
   },
   "outputs": [
    {
     "data": {
      "text/plain": [
       "Caught        121\n",
       "NO             37\n",
       "Bowled         21\n",
       "LBW            12\n",
       "Run out        12\n",
       "Stumped         4\n",
       "Hit wicket      1\n",
       "Name: Dismissal, dtype: int64"
      ]
     },
     "execution_count": 20,
     "metadata": {},
     "output_type": "execute_result"
    }
   ],
   "source": [
    "df['Dismissal'].value_counts()"
   ]
  },
  {
   "cell_type": "code",
   "execution_count": 21,
   "id": "ea1401fd",
   "metadata": {
    "scrolled": false
   },
   "outputs": [
    {
     "data": {
      "text/plain": [
       "Index(['Caught', 'NO', 'Bowled', 'LBW', 'Run out', 'Stumped', 'Hit wicket'], dtype='object')"
      ]
     },
     "execution_count": 21,
     "metadata": {},
     "output_type": "execute_result"
    }
   ],
   "source": [
    "df['Dismissal'].value_counts().index"
   ]
  },
  {
   "cell_type": "code",
   "execution_count": 22,
   "id": "6a102e65",
   "metadata": {
    "scrolled": false
   },
   "outputs": [
    {
     "data": {
      "image/png": "[encoded data removed]",
      "text/plain": [
       "<Figure size 900x900 with 1 Axes>"
      ]
     },
     "metadata": {},
     "output_type": "display_data"
    }
   ],
   "source": [
    "plt.figure(figsize=(9,9))\n",
    "plt.pie(df['Dismissal'].value_counts(),labels=df['Dismissal'].value_counts().index,autopct='%1.1f%%',explode=(0,0,0.3,0,0,0,0));"
   ]
  },
  {
   "cell_type": "markdown",
   "id": "f62e3419",
   "metadata": {},
   "source": [
    "# Find the number of times Kohli has scored less than or equal to 7 runs."
   ]
  },
  {
   "cell_type": "code",
   "execution_count": 23,
   "id": "caeb3649",
   "metadata": {
    "scrolled": true
   },
   "outputs": [
    {
     "data": {
      "text/html": [
       "<div>\n",
       "<style scoped>\n",
       "    .dataframe tbody tr th:only-of-type {\n",
       "        vertical-align: middle;\n",
       "    }\n",
       "\n",
       "    .dataframe tbody tr th {\n",
       "        vertical-align: top;\n",
       "    }\n",
       "\n",
       "    .dataframe thead th {\n",
       "        text-align: right;\n",
       "    }\n",
       "</style>\n",
       "<table border=\"1\" class=\"dataframe\">\n",
       "  <thead>\n",
       "    <tr style=\"text-align: right;\">\n",
       "      <th></th>\n",
       "      <th>RunsScored</th>\n",
       "      <th>BallsFaced</th>\n",
       "      <th>BattingPosition</th>\n",
       "      <th>Dismissal</th>\n",
       "      <th>Inning</th>\n",
       "      <th>Opposition</th>\n",
       "      <th>Year</th>\n",
       "    </tr>\n",
       "  </thead>\n",
       "  <tbody>\n",
       "    <tr>\n",
       "      <th>0</th>\n",
       "      <td>12</td>\n",
       "      <td>22</td>\n",
       "      <td>2</td>\n",
       "      <td>LBW</td>\n",
       "      <td>1</td>\n",
       "      <td>Sri Lanka</td>\n",
       "      <td>2008</td>\n",
       "    </tr>\n",
       "    <tr>\n",
       "      <th>1</th>\n",
       "      <td>37</td>\n",
       "      <td>67</td>\n",
       "      <td>2</td>\n",
       "      <td>Caught</td>\n",
       "      <td>2</td>\n",
       "      <td>Sri Lanka</td>\n",
       "      <td>2008</td>\n",
       "    </tr>\n",
       "    <tr>\n",
       "      <th>2</th>\n",
       "      <td>25</td>\n",
       "      <td>38</td>\n",
       "      <td>1</td>\n",
       "      <td>Run out</td>\n",
       "      <td>1</td>\n",
       "      <td>Sri Lanka</td>\n",
       "      <td>2008</td>\n",
       "    </tr>\n",
       "    <tr>\n",
       "      <th>3</th>\n",
       "      <td>54</td>\n",
       "      <td>66</td>\n",
       "      <td>1</td>\n",
       "      <td>Bowled</td>\n",
       "      <td>1</td>\n",
       "      <td>Sri Lanka</td>\n",
       "      <td>2008</td>\n",
       "    </tr>\n",
       "    <tr>\n",
       "      <th>4</th>\n",
       "      <td>31</td>\n",
       "      <td>46</td>\n",
       "      <td>1</td>\n",
       "      <td>LBW</td>\n",
       "      <td>2</td>\n",
       "      <td>Sri Lanka</td>\n",
       "      <td>2008</td>\n",
       "    </tr>\n",
       "  </tbody>\n",
       "</table>\n",
       "</div>"
      ],
      "text/plain": [
       "   RunsScored  BallsFaced  BattingPosition Dismissal  Inning Opposition  Year\n",
       "0          12          22                2       LBW       1  Sri Lanka  2008\n",
       "1          37          67                2    Caught       2  Sri Lanka  2008\n",
       "2          25          38                1   Run out       1  Sri Lanka  2008\n",
       "3          54          66                1    Bowled       1  Sri Lanka  2008\n",
       "4          31          46                1       LBW       2  Sri Lanka  2008"
      ]
     },
     "execution_count": 23,
     "metadata": {},
     "output_type": "execute_result"
    }
   ],
   "source": [
    "df.head()"
   ]
  },
  {
   "cell_type": "markdown",
   "id": "390b61ab",
   "metadata": {},
   "source": [
    "# Runs scored is a continuous variable"
   ]
  },
  {
   "cell_type": "code",
   "execution_count": 24,
   "id": "989b0026",
   "metadata": {
    "scrolled": false
   },
   "outputs": [
    {
     "data": {
      "text/html": [
       "<div>\n",
       "<style scoped>\n",
       "    .dataframe tbody tr th:only-of-type {\n",
       "        vertical-align: middle;\n",
       "    }\n",
       "\n",
       "    .dataframe tbody tr th {\n",
       "        vertical-align: top;\n",
       "    }\n",
       "\n",
       "    .dataframe thead th {\n",
       "        text-align: right;\n",
       "    }\n",
       "</style>\n",
       "<table border=\"1\" class=\"dataframe\">\n",
       "  <thead>\n",
       "    <tr style=\"text-align: right;\">\n",
       "      <th></th>\n",
       "      <th>RunsScored</th>\n",
       "      <th>BallsFaced</th>\n",
       "      <th>BattingPosition</th>\n",
       "      <th>Dismissal</th>\n",
       "      <th>Inning</th>\n",
       "      <th>Opposition</th>\n",
       "      <th>Year</th>\n",
       "    </tr>\n",
       "  </thead>\n",
       "  <tbody>\n",
       "    <tr>\n",
       "      <th>5</th>\n",
       "      <td>2</td>\n",
       "      <td>2</td>\n",
       "      <td>7</td>\n",
       "      <td>NO</td>\n",
       "      <td>1</td>\n",
       "      <td>Sri Lanka</td>\n",
       "      <td>2009</td>\n",
       "    </tr>\n",
       "    <tr>\n",
       "      <th>17</th>\n",
       "      <td>2</td>\n",
       "      <td>8</td>\n",
       "      <td>3</td>\n",
       "      <td>Caught</td>\n",
       "      <td>1</td>\n",
       "      <td>Sri Lanka</td>\n",
       "      <td>2010</td>\n",
       "    </tr>\n",
       "    <tr>\n",
       "      <th>20</th>\n",
       "      <td>0</td>\n",
       "      <td>0</td>\n",
       "      <td>3</td>\n",
       "      <td>Run out</td>\n",
       "      <td>1</td>\n",
       "      <td>Zimbabwe</td>\n",
       "      <td>2010</td>\n",
       "    </tr>\n",
       "    <tr>\n",
       "      <th>28</th>\n",
       "      <td>0</td>\n",
       "      <td>3</td>\n",
       "      <td>3</td>\n",
       "      <td>Caught</td>\n",
       "      <td>2</td>\n",
       "      <td>Sri Lanka</td>\n",
       "      <td>2010</td>\n",
       "    </tr>\n",
       "    <tr>\n",
       "      <th>35</th>\n",
       "      <td>0</td>\n",
       "      <td>2</td>\n",
       "      <td>3</td>\n",
       "      <td>Caught</td>\n",
       "      <td>2</td>\n",
       "      <td>New Zealand</td>\n",
       "      <td>2010</td>\n",
       "    </tr>\n",
       "    <tr>\n",
       "      <th>36</th>\n",
       "      <td>2</td>\n",
       "      <td>8</td>\n",
       "      <td>3</td>\n",
       "      <td>Caught</td>\n",
       "      <td>2</td>\n",
       "      <td>New Zealand</td>\n",
       "      <td>2010</td>\n",
       "    </tr>\n",
       "    <tr>\n",
       "      <th>41</th>\n",
       "      <td>2</td>\n",
       "      <td>6</td>\n",
       "      <td>3</td>\n",
       "      <td>Caught</td>\n",
       "      <td>2</td>\n",
       "      <td>South Africa</td>\n",
       "      <td>2011</td>\n",
       "    </tr>\n",
       "    <tr>\n",
       "      <th>46</th>\n",
       "      <td>1</td>\n",
       "      <td>3</td>\n",
       "      <td>7</td>\n",
       "      <td>Caught</td>\n",
       "      <td>1</td>\n",
       "      <td>South Africa</td>\n",
       "      <td>2011</td>\n",
       "    </tr>\n",
       "    <tr>\n",
       "      <th>51</th>\n",
       "      <td>2</td>\n",
       "      <td>8</td>\n",
       "      <td>3</td>\n",
       "      <td>Caught</td>\n",
       "      <td>2</td>\n",
       "      <td>West Indies</td>\n",
       "      <td>2011</td>\n",
       "    </tr>\n",
       "    <tr>\n",
       "      <th>53</th>\n",
       "      <td>0</td>\n",
       "      <td>1</td>\n",
       "      <td>3</td>\n",
       "      <td>LBW</td>\n",
       "      <td>2</td>\n",
       "      <td>West Indies</td>\n",
       "      <td>2011</td>\n",
       "    </tr>\n",
       "    <tr>\n",
       "      <th>58</th>\n",
       "      <td>7</td>\n",
       "      <td>18</td>\n",
       "      <td>4</td>\n",
       "      <td>Caught</td>\n",
       "      <td>1</td>\n",
       "      <td>England</td>\n",
       "      <td>2011</td>\n",
       "    </tr>\n",
       "    <tr>\n",
       "      <th>65</th>\n",
       "      <td>0</td>\n",
       "      <td>5</td>\n",
       "      <td>3</td>\n",
       "      <td>Bowled</td>\n",
       "      <td>1</td>\n",
       "      <td>England</td>\n",
       "      <td>2011</td>\n",
       "    </tr>\n",
       "    <tr>\n",
       "      <th>66</th>\n",
       "      <td>3</td>\n",
       "      <td>6</td>\n",
       "      <td>4</td>\n",
       "      <td>Bowled</td>\n",
       "      <td>2</td>\n",
       "      <td>West Indies</td>\n",
       "      <td>2011</td>\n",
       "    </tr>\n",
       "    <tr>\n",
       "      <th>83</th>\n",
       "      <td>1</td>\n",
       "      <td>5</td>\n",
       "      <td>3</td>\n",
       "      <td>Caught</td>\n",
       "      <td>1</td>\n",
       "      <td>Sri Lanka</td>\n",
       "      <td>2012</td>\n",
       "    </tr>\n",
       "    <tr>\n",
       "      <th>87</th>\n",
       "      <td>0</td>\n",
       "      <td>5</td>\n",
       "      <td>3</td>\n",
       "      <td>Bowled</td>\n",
       "      <td>1</td>\n",
       "      <td>Pakistan</td>\n",
       "      <td>2012</td>\n",
       "    </tr>\n",
       "    <tr>\n",
       "      <th>88</th>\n",
       "      <td>6</td>\n",
       "      <td>9</td>\n",
       "      <td>3</td>\n",
       "      <td>Caught</td>\n",
       "      <td>2</td>\n",
       "      <td>Pakistan</td>\n",
       "      <td>2013</td>\n",
       "    </tr>\n",
       "    <tr>\n",
       "      <th>89</th>\n",
       "      <td>7</td>\n",
       "      <td>17</td>\n",
       "      <td>3</td>\n",
       "      <td>Caught</td>\n",
       "      <td>1</td>\n",
       "      <td>Pakistan</td>\n",
       "      <td>2013</td>\n",
       "    </tr>\n",
       "    <tr>\n",
       "      <th>94</th>\n",
       "      <td>0</td>\n",
       "      <td>1</td>\n",
       "      <td>3</td>\n",
       "      <td>Caught</td>\n",
       "      <td>1</td>\n",
       "      <td>England</td>\n",
       "      <td>2013</td>\n",
       "    </tr>\n",
       "    <tr>\n",
       "      <th>101</th>\n",
       "      <td>2</td>\n",
       "      <td>5</td>\n",
       "      <td>4</td>\n",
       "      <td>Caught</td>\n",
       "      <td>2</td>\n",
       "      <td>Sri Lanka</td>\n",
       "      <td>2013</td>\n",
       "    </tr>\n",
       "    <tr>\n",
       "      <th>104</th>\n",
       "      <td>2</td>\n",
       "      <td>5</td>\n",
       "      <td>3</td>\n",
       "      <td>Caught</td>\n",
       "      <td>2</td>\n",
       "      <td>Sri Lanka</td>\n",
       "      <td>2013</td>\n",
       "    </tr>\n",
       "    <tr>\n",
       "      <th>112</th>\n",
       "      <td>0</td>\n",
       "      <td>3</td>\n",
       "      <td>3</td>\n",
       "      <td>Run out</td>\n",
       "      <td>1</td>\n",
       "      <td>Australia</td>\n",
       "      <td>2013</td>\n",
       "    </tr>\n",
       "    <tr>\n",
       "      <th>117</th>\n",
       "      <td>0</td>\n",
       "      <td>5</td>\n",
       "      <td>3</td>\n",
       "      <td>Caught</td>\n",
       "      <td>2</td>\n",
       "      <td>South Africa</td>\n",
       "      <td>2013</td>\n",
       "    </tr>\n",
       "    <tr>\n",
       "      <th>120</th>\n",
       "      <td>6</td>\n",
       "      <td>20</td>\n",
       "      <td>3</td>\n",
       "      <td>Caught</td>\n",
       "      <td>2</td>\n",
       "      <td>New Zealand</td>\n",
       "      <td>2014</td>\n",
       "    </tr>\n",
       "    <tr>\n",
       "      <th>121</th>\n",
       "      <td>2</td>\n",
       "      <td>10</td>\n",
       "      <td>2</td>\n",
       "      <td>Caught</td>\n",
       "      <td>1</td>\n",
       "      <td>New Zealand</td>\n",
       "      <td>2014</td>\n",
       "    </tr>\n",
       "    <tr>\n",
       "      <th>125</th>\n",
       "      <td>5</td>\n",
       "      <td>11</td>\n",
       "      <td>3</td>\n",
       "      <td>Caught</td>\n",
       "      <td>1</td>\n",
       "      <td>Pakistan</td>\n",
       "      <td>2014</td>\n",
       "    </tr>\n",
       "    <tr>\n",
       "      <th>126</th>\n",
       "      <td>0</td>\n",
       "      <td>3</td>\n",
       "      <td>3</td>\n",
       "      <td>Caught</td>\n",
       "      <td>1</td>\n",
       "      <td>England</td>\n",
       "      <td>2014</td>\n",
       "    </tr>\n",
       "    <tr>\n",
       "      <th>128</th>\n",
       "      <td>1</td>\n",
       "      <td>3</td>\n",
       "      <td>3</td>\n",
       "      <td>NO</td>\n",
       "      <td>2</td>\n",
       "      <td>England</td>\n",
       "      <td>2014</td>\n",
       "    </tr>\n",
       "    <tr>\n",
       "      <th>130</th>\n",
       "      <td>2</td>\n",
       "      <td>5</td>\n",
       "      <td>3</td>\n",
       "      <td>Caught</td>\n",
       "      <td>2</td>\n",
       "      <td>West Indies</td>\n",
       "      <td>2014</td>\n",
       "    </tr>\n",
       "    <tr>\n",
       "      <th>139</th>\n",
       "      <td>4</td>\n",
       "      <td>8</td>\n",
       "      <td>4</td>\n",
       "      <td>Caught</td>\n",
       "      <td>1</td>\n",
       "      <td>England</td>\n",
       "      <td>2015</td>\n",
       "    </tr>\n",
       "    <tr>\n",
       "      <th>140</th>\n",
       "      <td>3</td>\n",
       "      <td>9</td>\n",
       "      <td>4</td>\n",
       "      <td>NO</td>\n",
       "      <td>1</td>\n",
       "      <td>Australia</td>\n",
       "      <td>2015</td>\n",
       "    </tr>\n",
       "    <tr>\n",
       "      <th>148</th>\n",
       "      <td>3</td>\n",
       "      <td>8</td>\n",
       "      <td>3</td>\n",
       "      <td>Caught</td>\n",
       "      <td>1</td>\n",
       "      <td>Bangladesh</td>\n",
       "      <td>2015</td>\n",
       "    </tr>\n",
       "    <tr>\n",
       "      <th>149</th>\n",
       "      <td>1</td>\n",
       "      <td>13</td>\n",
       "      <td>3</td>\n",
       "      <td>Caught</td>\n",
       "      <td>2</td>\n",
       "      <td>Australia</td>\n",
       "      <td>2015</td>\n",
       "    </tr>\n",
       "    <tr>\n",
       "      <th>150</th>\n",
       "      <td>1</td>\n",
       "      <td>4</td>\n",
       "      <td>3</td>\n",
       "      <td>Caught</td>\n",
       "      <td>2</td>\n",
       "      <td>Bangladesh</td>\n",
       "      <td>2015</td>\n",
       "    </tr>\n",
       "    <tr>\n",
       "      <th>157</th>\n",
       "      <td>7</td>\n",
       "      <td>6</td>\n",
       "      <td>3</td>\n",
       "      <td>Caught</td>\n",
       "      <td>2</td>\n",
       "      <td>South Africa</td>\n",
       "      <td>2015</td>\n",
       "    </tr>\n",
       "    <tr>\n",
       "      <th>172</th>\n",
       "      <td>0</td>\n",
       "      <td>5</td>\n",
       "      <td>3</td>\n",
       "      <td>Caught</td>\n",
       "      <td>1</td>\n",
       "      <td>Sri Lanka</td>\n",
       "      <td>2017</td>\n",
       "    </tr>\n",
       "    <tr>\n",
       "      <th>175</th>\n",
       "      <td>5</td>\n",
       "      <td>9</td>\n",
       "      <td>3</td>\n",
       "      <td>Caught</td>\n",
       "      <td>2</td>\n",
       "      <td>Pakistan</td>\n",
       "      <td>2017</td>\n",
       "    </tr>\n",
       "    <tr>\n",
       "      <th>179</th>\n",
       "      <td>3</td>\n",
       "      <td>12</td>\n",
       "      <td>3</td>\n",
       "      <td>Caught</td>\n",
       "      <td>2</td>\n",
       "      <td>West Indies</td>\n",
       "      <td>2017</td>\n",
       "    </tr>\n",
       "    <tr>\n",
       "      <th>182</th>\n",
       "      <td>4</td>\n",
       "      <td>2</td>\n",
       "      <td>5</td>\n",
       "      <td>Bowled</td>\n",
       "      <td>2</td>\n",
       "      <td>Sri Lanka</td>\n",
       "      <td>2017</td>\n",
       "    </tr>\n",
       "    <tr>\n",
       "      <th>183</th>\n",
       "      <td>3</td>\n",
       "      <td>11</td>\n",
       "      <td>3</td>\n",
       "      <td>Caught</td>\n",
       "      <td>2</td>\n",
       "      <td>Sri Lanka</td>\n",
       "      <td>2017</td>\n",
       "    </tr>\n",
       "    <tr>\n",
       "      <th>186</th>\n",
       "      <td>0</td>\n",
       "      <td>4</td>\n",
       "      <td>3</td>\n",
       "      <td>Caught</td>\n",
       "      <td>1</td>\n",
       "      <td>Australia</td>\n",
       "      <td>2017</td>\n",
       "    </tr>\n",
       "  </tbody>\n",
       "</table>\n",
       "</div>"
      ],
      "text/plain": [
       "     RunsScored  BallsFaced  BattingPosition Dismissal  Inning    Opposition  \\\n",
       "5             2           2                7        NO       1     Sri Lanka   \n",
       "17            2           8                3    Caught       1     Sri Lanka   \n",
       "20            0           0                3   Run out       1      Zimbabwe   \n",
       "28            0           3                3    Caught       2     Sri Lanka   \n",
       "35            0           2                3    Caught       2   New Zealand   \n",
       "36            2           8                3    Caught       2   New Zealand   \n",
       "41            2           6                3    Caught       2  South Africa   \n",
       "46            1           3                7    Caught       1  South Africa   \n",
       "51            2           8                3    Caught       2   West Indies   \n",
       "53            0           1                3       LBW       2   West Indies   \n",
       "58            7          18                4    Caught       1       England   \n",
       "65            0           5                3    Bowled       1       England   \n",
       "66            3           6                4    Bowled       2   West Indies   \n",
       "83            1           5                3    Caught       1     Sri Lanka   \n",
       "87            0           5                3    Bowled       1      Pakistan   \n",
       "88            6           9                3    Caught       2      Pakistan   \n",
       "89            7          17                3    Caught       1      Pakistan   \n",
       "94            0           1                3    Caught       1       England   \n",
       "101           2           5                4    Caught       2     Sri Lanka   \n",
       "104           2           5                3    Caught       2     Sri Lanka   \n",
       "112           0           3                3   Run out       1     Australia   \n",
       "117           0           5                3    Caught       2  South Africa   \n",
       "120           6          20                3    Caught       2   New Zealand   \n",
       "121           2          10                2    Caught       1   New Zealand   \n",
       "125           5          11                3    Caught       1      Pakistan   \n",
       "126           0           3                3    Caught       1       England   \n",
       "128           1           3                3        NO       2       England   \n",
       "130           2           5                3    Caught       2   West Indies   \n",
       "139           4           8                4    Caught       1       England   \n",
       "140           3           9                4        NO       1     Australia   \n",
       "148           3           8                3    Caught       1    Bangladesh   \n",
       "149           1          13                3    Caught       2     Australia   \n",
       "150           1           4                3    Caught       2    Bangladesh   \n",
       "157           7           6                3    Caught       2  South Africa   \n",
       "172           0           5                3    Caught       1     Sri Lanka   \n",
       "175           5           9                3    Caught       2      Pakistan   \n",
       "179           3          12                3    Caught       2   West Indies   \n",
       "182           4           2                5    Bowled       2     Sri Lanka   \n",
       "183           3          11                3    Caught       2     Sri Lanka   \n",
       "186           0           4                3    Caught       1     Australia   \n",
       "\n",
       "     Year  \n",
       "5    2009  \n",
       "17   2010  \n",
       "20   2010  \n",
       "28   2010  \n",
       "35   2010  \n",
       "36   2010  \n",
       "41   2011  \n",
       "46   2011  \n",
       "51   2011  \n",
       "53   2011  \n",
       "58   2011  \n",
       "65   2011  \n",
       "66   2011  \n",
       "83   2012  \n",
       "87   2012  \n",
       "88   2013  \n",
       "89   2013  \n",
       "94   2013  \n",
       "101  2013  \n",
       "104  2013  \n",
       "112  2013  \n",
       "117  2013  \n",
       "120  2014  \n",
       "121  2014  \n",
       "125  2014  \n",
       "126  2014  \n",
       "128  2014  \n",
       "130  2014  \n",
       "139  2015  \n",
       "140  2015  \n",
       "148  2015  \n",
       "149  2015  \n",
       "150  2015  \n",
       "157  2015  \n",
       "172  2017  \n",
       "175  2017  \n",
       "179  2017  \n",
       "182  2017  \n",
       "183  2017  \n",
       "186  2017  "
      ]
     },
     "execution_count": 24,
     "metadata": {},
     "output_type": "execute_result"
    }
   ],
   "source": [
    "df[df['RunsScored']<=7]"
   ]
  },
  {
   "cell_type": "code",
   "execution_count": 25,
   "id": "dd56557a",
   "metadata": {
    "scrolled": false
   },
   "outputs": [
    {
     "data": {
      "text/plain": [
       "(40, 7)"
      ]
     },
     "execution_count": 25,
     "metadata": {},
     "output_type": "execute_result"
    }
   ],
   "source": [
    "df[df['RunsScored']<=7].shape"
   ]
  },
  {
   "cell_type": "code",
   "execution_count": 26,
   "id": "2aa8ceee",
   "metadata": {
    "scrolled": false
   },
   "outputs": [
    {
     "data": {
      "text/plain": [
       "0"
      ]
     },
     "execution_count": 26,
     "metadata": {},
     "output_type": "execute_result"
    }
   ],
   "source": [
    "df['RunsScored'].min()"
   ]
  },
  {
   "cell_type": "code",
   "execution_count": 27,
   "id": "b14ca6a8",
   "metadata": {
    "scrolled": false
   },
   "outputs": [
    {
     "data": {
      "text/plain": [
       "183"
      ]
     },
     "execution_count": 27,
     "metadata": {},
     "output_type": "execute_result"
    }
   ],
   "source": [
    "df['RunsScored'].max()"
   ]
  },
  {
   "cell_type": "code",
   "execution_count": 28,
   "id": "7aeca5cf",
   "metadata": {
    "scrolled": false
   },
   "outputs": [
    {
     "data": {
      "text/plain": [
       "26.142857142857142"
      ]
     },
     "execution_count": 28,
     "metadata": {},
     "output_type": "execute_result"
    }
   ],
   "source": [
    "183/7"
   ]
  },
  {
   "cell_type": "code",
   "execution_count": 29,
   "id": "5fd14e77",
   "metadata": {
    "scrolled": false
   },
   "outputs": [
    {
     "data": {
      "text/plain": [
       "26.0"
      ]
     },
     "execution_count": 29,
     "metadata": {},
     "output_type": "execute_result"
    }
   ],
   "source": [
    "182/7"
   ]
  },
  {
   "cell_type": "code",
   "execution_count": 30,
   "id": "cbf0b1cc",
   "metadata": {
    "scrolled": false
   },
   "outputs": [
    {
     "data": {
      "image/png": "[encoded data removed]",
      "text/plain": [
       "<Figure size 1500x700 with 1 Axes>"
      ]
     },
     "metadata": {},
     "output_type": "display_data"
    }
   ],
   "source": [
    "plt.figure(figsize=(15,7))\n",
    "sns.distplot(df['RunsScored'],bins=26,kde=False,color='b',hist_kws={'linewidth':0.5,'edgecolor':'white'})\n",
    "plt.xticks(np.arange(0,183,7))\n",
    "plt.show()"
   ]
  },
  {
   "cell_type": "markdown",
   "id": "b212d774",
   "metadata": {},
   "source": [
    "# Use the boxplot to tell the IQR of the runs scored by KOHLI."
   ]
  },
  {
   "cell_type": "code",
   "execution_count": 31,
   "id": "83f27b63",
   "metadata": {
    "scrolled": true
   },
   "outputs": [
    {
     "data": {
      "image/png": "[encoded data removed]",
      "text/plain": [
       "<Figure size 640x480 with 1 Axes>"
      ]
     },
     "metadata": {},
     "output_type": "display_data"
    }
   ],
   "source": [
    "sns.boxplot(data=df,x='RunsScored');"
   ]
  },
  {
   "cell_type": "code",
   "execution_count": 32,
   "id": "acd9cb02",
   "metadata": {
    "scrolled": false
   },
   "outputs": [],
   "source": [
    "q1=np.quantile(df['RunsScored'],0.25)"
   ]
  },
  {
   "cell_type": "code",
   "execution_count": 33,
   "id": "ca33b823",
   "metadata": {
    "scrolled": false
   },
   "outputs": [
    {
     "data": {
      "text/plain": [
       "10.75"
      ]
     },
     "execution_count": 33,
     "metadata": {},
     "output_type": "execute_result"
    }
   ],
   "source": [
    "q1"
   ]
  },
  {
   "cell_type": "code",
   "execution_count": 34,
   "id": "fcd2451d",
   "metadata": {
    "scrolled": false
   },
   "outputs": [
    {
     "data": {
      "text/plain": [
       "81.25"
      ]
     },
     "execution_count": 34,
     "metadata": {},
     "output_type": "execute_result"
    }
   ],
   "source": [
    "q3=np.quantile(df['RunsScored'],0.75)\n",
    "q3"
   ]
  },
  {
   "cell_type": "code",
   "execution_count": 35,
   "id": "352ecb12",
   "metadata": {
    "scrolled": false
   },
   "outputs": [],
   "source": [
    "IQR=q3-q1"
   ]
  },
  {
   "cell_type": "code",
   "execution_count": 36,
   "id": "ebf84196",
   "metadata": {
    "scrolled": false
   },
   "outputs": [
    {
     "data": {
      "text/plain": [
       "70.5"
      ]
     },
     "execution_count": 36,
     "metadata": {},
     "output_type": "execute_result"
    }
   ],
   "source": [
    "IQR"
   ]
  },
  {
   "cell_type": "markdown",
   "id": "4bbae2f9",
   "metadata": {},
   "source": [
    "# What is the best way the opposition team bowlers can get Kohli out?"
   ]
  },
  {
   "cell_type": "markdown",
   "id": "34d9ed7c",
   "metadata": {},
   "source": [
    "# How Kohli got out most of the times?"
   ]
  },
  {
   "cell_type": "markdown",
   "id": "75251786",
   "metadata": {},
   "source": [
    "# Dismissal is a discrete data type"
   ]
  },
  {
   "cell_type": "code",
   "execution_count": 37,
   "id": "651be86f",
   "metadata": {
    "scrolled": true
   },
   "outputs": [
    {
     "data": {
      "text/plain": [
       "Caught        121\n",
       "NO             37\n",
       "Bowled         21\n",
       "LBW            12\n",
       "Run out        12\n",
       "Stumped         4\n",
       "Hit wicket      1\n",
       "Name: Dismissal, dtype: int64"
      ]
     },
     "execution_count": 37,
     "metadata": {},
     "output_type": "execute_result"
    }
   ],
   "source": [
    "df['Dismissal'].value_counts()"
   ]
  },
  {
   "cell_type": "code",
   "execution_count": 38,
   "id": "61a9d048",
   "metadata": {
    "scrolled": true
   },
   "outputs": [
    {
     "data": {
      "image/png": "[encoded data removed]",
      "text/plain": [
       "<Figure size 640x480 with 1 Axes>"
      ]
     },
     "metadata": {},
     "output_type": "display_data"
    }
   ],
   "source": [
    "sns.countplot(data=df,x='Dismissal');"
   ]
  },
  {
   "cell_type": "markdown",
   "id": "0d0f7fd5",
   "metadata": {},
   "source": [
    "# The best way is CAUGHT"
   ]
  },
  {
   "cell_type": "code",
   "execution_count": 39,
   "id": "22d07802",
   "metadata": {
    "scrolled": false
   },
   "outputs": [
    {
     "data": {
      "image/png": "[encoded data removed]",
      "text/plain": [
       "<Figure size 640x480 with 1 Axes>"
      ]
     },
     "metadata": {},
     "output_type": "display_data"
    }
   ],
   "source": [
    "sns.countplot(data=df,x='Dismissal',order=df['Dismissal'].value_counts().index);"
   ]
  },
  {
   "cell_type": "markdown",
   "id": "e8f6459c",
   "metadata": {},
   "source": [
    "# CAUGHT is the highest, NOT OUT is the second highest and so on"
   ]
  },
  {
   "cell_type": "markdown",
   "id": "af5936ec",
   "metadata": {},
   "source": [
    "# Against which opposition team KOHLI has played most of his career?"
   ]
  },
  {
   "cell_type": "markdown",
   "id": "7dea6d34",
   "metadata": {},
   "source": [
    "# Opposition is DISCRETE"
   ]
  },
  {
   "cell_type": "code",
   "execution_count": 40,
   "id": "a5e9e7c3",
   "metadata": {
    "scrolled": false
   },
   "outputs": [
    {
     "data": {
      "text/html": [
       "<div>\n",
       "<style scoped>\n",
       "    .dataframe tbody tr th:only-of-type {\n",
       "        vertical-align: middle;\n",
       "    }\n",
       "\n",
       "    .dataframe tbody tr th {\n",
       "        vertical-align: top;\n",
       "    }\n",
       "\n",
       "    .dataframe thead th {\n",
       "        text-align: right;\n",
       "    }\n",
       "</style>\n",
       "<table border=\"1\" class=\"dataframe\">\n",
       "  <thead>\n",
       "    <tr style=\"text-align: right;\">\n",
       "      <th></th>\n",
       "      <th>RunsScored</th>\n",
       "      <th>BallsFaced</th>\n",
       "      <th>BattingPosition</th>\n",
       "      <th>Dismissal</th>\n",
       "      <th>Inning</th>\n",
       "      <th>Opposition</th>\n",
       "      <th>Year</th>\n",
       "    </tr>\n",
       "  </thead>\n",
       "  <tbody>\n",
       "    <tr>\n",
       "      <th>0</th>\n",
       "      <td>12</td>\n",
       "      <td>22</td>\n",
       "      <td>2</td>\n",
       "      <td>LBW</td>\n",
       "      <td>1</td>\n",
       "      <td>Sri Lanka</td>\n",
       "      <td>2008</td>\n",
       "    </tr>\n",
       "    <tr>\n",
       "      <th>1</th>\n",
       "      <td>37</td>\n",
       "      <td>67</td>\n",
       "      <td>2</td>\n",
       "      <td>Caught</td>\n",
       "      <td>2</td>\n",
       "      <td>Sri Lanka</td>\n",
       "      <td>2008</td>\n",
       "    </tr>\n",
       "    <tr>\n",
       "      <th>2</th>\n",
       "      <td>25</td>\n",
       "      <td>38</td>\n",
       "      <td>1</td>\n",
       "      <td>Run out</td>\n",
       "      <td>1</td>\n",
       "      <td>Sri Lanka</td>\n",
       "      <td>2008</td>\n",
       "    </tr>\n",
       "    <tr>\n",
       "      <th>3</th>\n",
       "      <td>54</td>\n",
       "      <td>66</td>\n",
       "      <td>1</td>\n",
       "      <td>Bowled</td>\n",
       "      <td>1</td>\n",
       "      <td>Sri Lanka</td>\n",
       "      <td>2008</td>\n",
       "    </tr>\n",
       "    <tr>\n",
       "      <th>4</th>\n",
       "      <td>31</td>\n",
       "      <td>46</td>\n",
       "      <td>1</td>\n",
       "      <td>LBW</td>\n",
       "      <td>2</td>\n",
       "      <td>Sri Lanka</td>\n",
       "      <td>2008</td>\n",
       "    </tr>\n",
       "  </tbody>\n",
       "</table>\n",
       "</div>"
      ],
      "text/plain": [
       "   RunsScored  BallsFaced  BattingPosition Dismissal  Inning Opposition  Year\n",
       "0          12          22                2       LBW       1  Sri Lanka  2008\n",
       "1          37          67                2    Caught       2  Sri Lanka  2008\n",
       "2          25          38                1   Run out       1  Sri Lanka  2008\n",
       "3          54          66                1    Bowled       1  Sri Lanka  2008\n",
       "4          31          46                1       LBW       2  Sri Lanka  2008"
      ]
     },
     "execution_count": 40,
     "metadata": {},
     "output_type": "execute_result"
    }
   ],
   "source": [
    "df.head()"
   ]
  },
  {
   "cell_type": "code",
   "execution_count": 41,
   "id": "46e50d80",
   "metadata": {
    "scrolled": false
   },
   "outputs": [
    {
     "data": {
      "image/png": "[encoded data removed]",
      "text/plain": [
       "<Figure size 640x480 with 1 Axes>"
      ]
     },
     "metadata": {},
     "output_type": "display_data"
    }
   ],
   "source": [
    "sns.countplot(data=df,x='Opposition',order=df['Opposition'].value_counts().index)\n",
    "plt.xticks(rotation=90);"
   ]
  },
  {
   "cell_type": "code",
   "execution_count": 42,
   "id": "42dc0e15",
   "metadata": {
    "scrolled": false
   },
   "outputs": [
    {
     "data": {
      "image/png": "[encoded data removed]",
      "text/plain": [
       "<Figure size 640x480 with 1 Axes>"
      ]
     },
     "metadata": {},
     "output_type": "display_data"
    }
   ],
   "source": [
    "sns.countplot(data=df,y='Opposition',order=df['Opposition'].value_counts().index);"
   ]
  },
  {
   "cell_type": "markdown",
   "id": "a4a2ef32",
   "metadata": {},
   "source": [
    "# Find out some interesting dismissal patterns in Kohli's career against the oppositions"
   ]
  },
  {
   "cell_type": "markdown",
   "id": "ba8c565d",
   "metadata": {},
   "source": [
    "# Dismissal .....discrete \n",
    "# Opposition ......discrete\n",
    "# So we have to use crosstab and stacked bar plot"
   ]
  },
  {
   "cell_type": "code",
   "execution_count": 43,
   "id": "11f2ac4c",
   "metadata": {
    "scrolled": false
   },
   "outputs": [
    {
     "data": {
      "text/html": [
       "<div>\n",
       "<style scoped>\n",
       "    .dataframe tbody tr th:only-of-type {\n",
       "        vertical-align: middle;\n",
       "    }\n",
       "\n",
       "    .dataframe tbody tr th {\n",
       "        vertical-align: top;\n",
       "    }\n",
       "\n",
       "    .dataframe thead th {\n",
       "        text-align: right;\n",
       "    }\n",
       "</style>\n",
       "<table border=\"1\" class=\"dataframe\">\n",
       "  <thead>\n",
       "    <tr style=\"text-align: right;\">\n",
       "      <th>Dismissal</th>\n",
       "      <th>Bowled</th>\n",
       "      <th>Caught</th>\n",
       "      <th>Hit wicket</th>\n",
       "      <th>LBW</th>\n",
       "      <th>NO</th>\n",
       "      <th>Run out</th>\n",
       "      <th>Stumped</th>\n",
       "      <th>All</th>\n",
       "    </tr>\n",
       "    <tr>\n",
       "      <th>Opposition</th>\n",
       "      <th></th>\n",
       "      <th></th>\n",
       "      <th></th>\n",
       "      <th></th>\n",
       "      <th></th>\n",
       "      <th></th>\n",
       "      <th></th>\n",
       "      <th></th>\n",
       "    </tr>\n",
       "  </thead>\n",
       "  <tbody>\n",
       "    <tr>\n",
       "      <th>Australia</th>\n",
       "      <td>2</td>\n",
       "      <td>18</td>\n",
       "      <td>0</td>\n",
       "      <td>1</td>\n",
       "      <td>3</td>\n",
       "      <td>2</td>\n",
       "      <td>0</td>\n",
       "      <td>26</td>\n",
       "    </tr>\n",
       "    <tr>\n",
       "      <th>Bangladesh</th>\n",
       "      <td>3</td>\n",
       "      <td>3</td>\n",
       "      <td>0</td>\n",
       "      <td>1</td>\n",
       "      <td>3</td>\n",
       "      <td>0</td>\n",
       "      <td>1</td>\n",
       "      <td>11</td>\n",
       "    </tr>\n",
       "    <tr>\n",
       "      <th>England</th>\n",
       "      <td>4</td>\n",
       "      <td>17</td>\n",
       "      <td>1</td>\n",
       "      <td>2</td>\n",
       "      <td>4</td>\n",
       "      <td>0</td>\n",
       "      <td>1</td>\n",
       "      <td>29</td>\n",
       "    </tr>\n",
       "    <tr>\n",
       "      <th>Ireland</th>\n",
       "      <td>0</td>\n",
       "      <td>0</td>\n",
       "      <td>0</td>\n",
       "      <td>0</td>\n",
       "      <td>1</td>\n",
       "      <td>1</td>\n",
       "      <td>0</td>\n",
       "      <td>2</td>\n",
       "    </tr>\n",
       "    <tr>\n",
       "      <th>Netherlands</th>\n",
       "      <td>1</td>\n",
       "      <td>0</td>\n",
       "      <td>0</td>\n",
       "      <td>0</td>\n",
       "      <td>0</td>\n",
       "      <td>0</td>\n",
       "      <td>0</td>\n",
       "      <td>1</td>\n",
       "    </tr>\n",
       "    <tr>\n",
       "      <th>New Zealand</th>\n",
       "      <td>0</td>\n",
       "      <td>16</td>\n",
       "      <td>0</td>\n",
       "      <td>0</td>\n",
       "      <td>3</td>\n",
       "      <td>0</td>\n",
       "      <td>0</td>\n",
       "      <td>19</td>\n",
       "    </tr>\n",
       "    <tr>\n",
       "      <th>Pakistan</th>\n",
       "      <td>2</td>\n",
       "      <td>8</td>\n",
       "      <td>0</td>\n",
       "      <td>0</td>\n",
       "      <td>2</td>\n",
       "      <td>0</td>\n",
       "      <td>0</td>\n",
       "      <td>12</td>\n",
       "    </tr>\n",
       "    <tr>\n",
       "      <th>South Africa</th>\n",
       "      <td>0</td>\n",
       "      <td>16</td>\n",
       "      <td>0</td>\n",
       "      <td>0</td>\n",
       "      <td>5</td>\n",
       "      <td>3</td>\n",
       "      <td>0</td>\n",
       "      <td>24</td>\n",
       "    </tr>\n",
       "    <tr>\n",
       "      <th>Sri Lanka</th>\n",
       "      <td>4</td>\n",
       "      <td>24</td>\n",
       "      <td>0</td>\n",
       "      <td>6</td>\n",
       "      <td>8</td>\n",
       "      <td>3</td>\n",
       "      <td>0</td>\n",
       "      <td>45</td>\n",
       "    </tr>\n",
       "    <tr>\n",
       "      <th>U.A.E.</th>\n",
       "      <td>0</td>\n",
       "      <td>0</td>\n",
       "      <td>0</td>\n",
       "      <td>0</td>\n",
       "      <td>1</td>\n",
       "      <td>0</td>\n",
       "      <td>0</td>\n",
       "      <td>1</td>\n",
       "    </tr>\n",
       "    <tr>\n",
       "      <th>West Indies</th>\n",
       "      <td>4</td>\n",
       "      <td>16</td>\n",
       "      <td>0</td>\n",
       "      <td>2</td>\n",
       "      <td>6</td>\n",
       "      <td>2</td>\n",
       "      <td>2</td>\n",
       "      <td>32</td>\n",
       "    </tr>\n",
       "    <tr>\n",
       "      <th>Zimbabwe</th>\n",
       "      <td>1</td>\n",
       "      <td>3</td>\n",
       "      <td>0</td>\n",
       "      <td>0</td>\n",
       "      <td>1</td>\n",
       "      <td>1</td>\n",
       "      <td>0</td>\n",
       "      <td>6</td>\n",
       "    </tr>\n",
       "    <tr>\n",
       "      <th>All</th>\n",
       "      <td>21</td>\n",
       "      <td>121</td>\n",
       "      <td>1</td>\n",
       "      <td>12</td>\n",
       "      <td>37</td>\n",
       "      <td>12</td>\n",
       "      <td>4</td>\n",
       "      <td>208</td>\n",
       "    </tr>\n",
       "  </tbody>\n",
       "</table>\n",
       "</div>"
      ],
      "text/plain": [
       "Dismissal     Bowled  Caught  Hit wicket  LBW  NO  Run out  Stumped  All\n",
       "Opposition                                                              \n",
       "Australia          2      18           0    1   3        2        0   26\n",
       "Bangladesh         3       3           0    1   3        0        1   11\n",
       "England            4      17           1    2   4        0        1   29\n",
       "Ireland            0       0           0    0   1        1        0    2\n",
       "Netherlands        1       0           0    0   0        0        0    1\n",
       "New Zealand        0      16           0    0   3        0        0   19\n",
       "Pakistan           2       8           0    0   2        0        0   12\n",
       "South Africa       0      16           0    0   5        3        0   24\n",
       "Sri Lanka          4      24           0    6   8        3        0   45\n",
       "U.A.E.             0       0           0    0   1        0        0    1\n",
       "West Indies        4      16           0    2   6        2        2   32\n",
       "Zimbabwe           1       3           0    0   1        1        0    6\n",
       "All               21     121           1   12  37       12        4  208"
      ]
     },
     "execution_count": 43,
     "metadata": {},
     "output_type": "execute_result"
    }
   ],
   "source": [
    "ct=pd.crosstab(index=df['Opposition'],columns=df['Dismissal'],margins=True)\n",
    "ct"
   ]
  },
  {
   "cell_type": "code",
   "execution_count": 44,
   "id": "9a2b472c",
   "metadata": {
    "scrolled": false
   },
   "outputs": [
    {
     "data": {
      "text/html": [
       "<div>\n",
       "<style scoped>\n",
       "    .dataframe tbody tr th:only-of-type {\n",
       "        vertical-align: middle;\n",
       "    }\n",
       "\n",
       "    .dataframe tbody tr th {\n",
       "        vertical-align: top;\n",
       "    }\n",
       "\n",
       "    .dataframe thead th {\n",
       "        text-align: right;\n",
       "    }\n",
       "</style>\n",
       "<table border=\"1\" class=\"dataframe\">\n",
       "  <thead>\n",
       "    <tr style=\"text-align: right;\">\n",
       "      <th>Dismissal</th>\n",
       "      <th>Bowled</th>\n",
       "      <th>Caught</th>\n",
       "      <th>Hit wicket</th>\n",
       "      <th>LBW</th>\n",
       "      <th>NO</th>\n",
       "      <th>Run out</th>\n",
       "      <th>Stumped</th>\n",
       "    </tr>\n",
       "    <tr>\n",
       "      <th>Opposition</th>\n",
       "      <th></th>\n",
       "      <th></th>\n",
       "      <th></th>\n",
       "      <th></th>\n",
       "      <th></th>\n",
       "      <th></th>\n",
       "      <th></th>\n",
       "    </tr>\n",
       "  </thead>\n",
       "  <tbody>\n",
       "    <tr>\n",
       "      <th>Australia</th>\n",
       "      <td>2</td>\n",
       "      <td>18</td>\n",
       "      <td>0</td>\n",
       "      <td>1</td>\n",
       "      <td>3</td>\n",
       "      <td>2</td>\n",
       "      <td>0</td>\n",
       "    </tr>\n",
       "    <tr>\n",
       "      <th>Bangladesh</th>\n",
       "      <td>3</td>\n",
       "      <td>3</td>\n",
       "      <td>0</td>\n",
       "      <td>1</td>\n",
       "      <td>3</td>\n",
       "      <td>0</td>\n",
       "      <td>1</td>\n",
       "    </tr>\n",
       "    <tr>\n",
       "      <th>England</th>\n",
       "      <td>4</td>\n",
       "      <td>17</td>\n",
       "      <td>1</td>\n",
       "      <td>2</td>\n",
       "      <td>4</td>\n",
       "      <td>0</td>\n",
       "      <td>1</td>\n",
       "    </tr>\n",
       "    <tr>\n",
       "      <th>Ireland</th>\n",
       "      <td>0</td>\n",
       "      <td>0</td>\n",
       "      <td>0</td>\n",
       "      <td>0</td>\n",
       "      <td>1</td>\n",
       "      <td>1</td>\n",
       "      <td>0</td>\n",
       "    </tr>\n",
       "    <tr>\n",
       "      <th>Netherlands</th>\n",
       "      <td>1</td>\n",
       "      <td>0</td>\n",
       "      <td>0</td>\n",
       "      <td>0</td>\n",
       "      <td>0</td>\n",
       "      <td>0</td>\n",
       "      <td>0</td>\n",
       "    </tr>\n",
       "    <tr>\n",
       "      <th>New Zealand</th>\n",
       "      <td>0</td>\n",
       "      <td>16</td>\n",
       "      <td>0</td>\n",
       "      <td>0</td>\n",
       "      <td>3</td>\n",
       "      <td>0</td>\n",
       "      <td>0</td>\n",
       "    </tr>\n",
       "    <tr>\n",
       "      <th>Pakistan</th>\n",
       "      <td>2</td>\n",
       "      <td>8</td>\n",
       "      <td>0</td>\n",
       "      <td>0</td>\n",
       "      <td>2</td>\n",
       "      <td>0</td>\n",
       "      <td>0</td>\n",
       "    </tr>\n",
       "    <tr>\n",
       "      <th>South Africa</th>\n",
       "      <td>0</td>\n",
       "      <td>16</td>\n",
       "      <td>0</td>\n",
       "      <td>0</td>\n",
       "      <td>5</td>\n",
       "      <td>3</td>\n",
       "      <td>0</td>\n",
       "    </tr>\n",
       "    <tr>\n",
       "      <th>Sri Lanka</th>\n",
       "      <td>4</td>\n",
       "      <td>24</td>\n",
       "      <td>0</td>\n",
       "      <td>6</td>\n",
       "      <td>8</td>\n",
       "      <td>3</td>\n",
       "      <td>0</td>\n",
       "    </tr>\n",
       "    <tr>\n",
       "      <th>U.A.E.</th>\n",
       "      <td>0</td>\n",
       "      <td>0</td>\n",
       "      <td>0</td>\n",
       "      <td>0</td>\n",
       "      <td>1</td>\n",
       "      <td>0</td>\n",
       "      <td>0</td>\n",
       "    </tr>\n",
       "    <tr>\n",
       "      <th>West Indies</th>\n",
       "      <td>4</td>\n",
       "      <td>16</td>\n",
       "      <td>0</td>\n",
       "      <td>2</td>\n",
       "      <td>6</td>\n",
       "      <td>2</td>\n",
       "      <td>2</td>\n",
       "    </tr>\n",
       "    <tr>\n",
       "      <th>Zimbabwe</th>\n",
       "      <td>1</td>\n",
       "      <td>3</td>\n",
       "      <td>0</td>\n",
       "      <td>0</td>\n",
       "      <td>1</td>\n",
       "      <td>1</td>\n",
       "      <td>0</td>\n",
       "    </tr>\n",
       "  </tbody>\n",
       "</table>\n",
       "</div>"
      ],
      "text/plain": [
       "Dismissal     Bowled  Caught  Hit wicket  LBW  NO  Run out  Stumped\n",
       "Opposition                                                         \n",
       "Australia          2      18           0    1   3        2        0\n",
       "Bangladesh         3       3           0    1   3        0        1\n",
       "England            4      17           1    2   4        0        1\n",
       "Ireland            0       0           0    0   1        1        0\n",
       "Netherlands        1       0           0    0   0        0        0\n",
       "New Zealand        0      16           0    0   3        0        0\n",
       "Pakistan           2       8           0    0   2        0        0\n",
       "South Africa       0      16           0    0   5        3        0\n",
       "Sri Lanka          4      24           0    6   8        3        0\n",
       "U.A.E.             0       0           0    0   1        0        0\n",
       "West Indies        4      16           0    2   6        2        2\n",
       "Zimbabwe           1       3           0    0   1        1        0"
      ]
     },
     "execution_count": 44,
     "metadata": {},
     "output_type": "execute_result"
    }
   ],
   "source": [
    "ct=pd.crosstab(index=df['Opposition'],columns=df['Dismissal'])\n",
    "ct"
   ]
  },
  {
   "cell_type": "code",
   "execution_count": 45,
   "id": "ceb70376",
   "metadata": {
    "scrolled": false
   },
   "outputs": [
    {
     "data": {
      "image/png": "[encoded data removed]",
      "text/plain": [
       "<Figure size 1500x1000 with 1 Axes>"
      ]
     },
     "metadata": {},
     "output_type": "display_data"
    }
   ],
   "source": [
    "ct.plot.bar(stacked=True,figsize=(15,10));"
   ]
  },
  {
   "cell_type": "markdown",
   "id": "1ac38b61",
   "metadata": {},
   "source": [
    "# Against NZ only CAUGHT is the mode of dismissal, he has not got out in any other way\n",
    "# Never got out against UAE"
   ]
  },
  {
   "cell_type": "markdown",
   "id": "5d031036",
   "metadata": {},
   "source": [
    "# Which opposition has Kohli scored the most runs against? \n",
    "# Find the median score against different oppositions and use a boxplot to reprsent it"
   ]
  },
  {
   "cell_type": "code",
   "execution_count": 46,
   "id": "bee69c36",
   "metadata": {
    "scrolled": false
   },
   "outputs": [
    {
     "data": {
      "text/html": [
       "<div>\n",
       "<style scoped>\n",
       "    .dataframe tbody tr th:only-of-type {\n",
       "        vertical-align: middle;\n",
       "    }\n",
       "\n",
       "    .dataframe tbody tr th {\n",
       "        vertical-align: top;\n",
       "    }\n",
       "\n",
       "    .dataframe thead th {\n",
       "        text-align: right;\n",
       "    }\n",
       "</style>\n",
       "<table border=\"1\" class=\"dataframe\">\n",
       "  <thead>\n",
       "    <tr style=\"text-align: right;\">\n",
       "      <th></th>\n",
       "      <th>RunsScored</th>\n",
       "      <th>BallsFaced</th>\n",
       "      <th>BattingPosition</th>\n",
       "      <th>Dismissal</th>\n",
       "      <th>Inning</th>\n",
       "      <th>Opposition</th>\n",
       "      <th>Year</th>\n",
       "    </tr>\n",
       "  </thead>\n",
       "  <tbody>\n",
       "    <tr>\n",
       "      <th>0</th>\n",
       "      <td>12</td>\n",
       "      <td>22</td>\n",
       "      <td>2</td>\n",
       "      <td>LBW</td>\n",
       "      <td>1</td>\n",
       "      <td>Sri Lanka</td>\n",
       "      <td>2008</td>\n",
       "    </tr>\n",
       "    <tr>\n",
       "      <th>1</th>\n",
       "      <td>37</td>\n",
       "      <td>67</td>\n",
       "      <td>2</td>\n",
       "      <td>Caught</td>\n",
       "      <td>2</td>\n",
       "      <td>Sri Lanka</td>\n",
       "      <td>2008</td>\n",
       "    </tr>\n",
       "    <tr>\n",
       "      <th>2</th>\n",
       "      <td>25</td>\n",
       "      <td>38</td>\n",
       "      <td>1</td>\n",
       "      <td>Run out</td>\n",
       "      <td>1</td>\n",
       "      <td>Sri Lanka</td>\n",
       "      <td>2008</td>\n",
       "    </tr>\n",
       "    <tr>\n",
       "      <th>3</th>\n",
       "      <td>54</td>\n",
       "      <td>66</td>\n",
       "      <td>1</td>\n",
       "      <td>Bowled</td>\n",
       "      <td>1</td>\n",
       "      <td>Sri Lanka</td>\n",
       "      <td>2008</td>\n",
       "    </tr>\n",
       "    <tr>\n",
       "      <th>4</th>\n",
       "      <td>31</td>\n",
       "      <td>46</td>\n",
       "      <td>1</td>\n",
       "      <td>LBW</td>\n",
       "      <td>2</td>\n",
       "      <td>Sri Lanka</td>\n",
       "      <td>2008</td>\n",
       "    </tr>\n",
       "  </tbody>\n",
       "</table>\n",
       "</div>"
      ],
      "text/plain": [
       "   RunsScored  BallsFaced  BattingPosition Dismissal  Inning Opposition  Year\n",
       "0          12          22                2       LBW       1  Sri Lanka  2008\n",
       "1          37          67                2    Caught       2  Sri Lanka  2008\n",
       "2          25          38                1   Run out       1  Sri Lanka  2008\n",
       "3          54          66                1    Bowled       1  Sri Lanka  2008\n",
       "4          31          46                1       LBW       2  Sri Lanka  2008"
      ]
     },
     "execution_count": 46,
     "metadata": {},
     "output_type": "execute_result"
    }
   ],
   "source": [
    "df.head()"
   ]
  },
  {
   "cell_type": "code",
   "execution_count": 47,
   "id": "8b3223f0",
   "metadata": {
    "scrolled": false
   },
   "outputs": [
    {
     "data": {
      "text/plain": [
       "Opposition\n",
       "Sri Lanka       2186\n",
       "West Indies     1840\n",
       "South Africa    1269\n",
       "Australia       1182\n",
       "New Zealand     1154\n",
       "England         1112\n",
       "Bangladesh       654\n",
       "Pakistan         459\n",
       "Zimbabwe         253\n",
       "Ireland           78\n",
       "U.A.E.            33\n",
       "Netherlands       12\n",
       "Name: RunsScored, dtype: int64"
      ]
     },
     "execution_count": 47,
     "metadata": {},
     "output_type": "execute_result"
    }
   ],
   "source": [
    "df.groupby('Opposition')['RunsScored'].sum().sort_values(ascending=False)"
   ]
  },
  {
   "cell_type": "markdown",
   "id": "dc254eff",
   "metadata": {},
   "source": [
    "# countplot will give the count of a discrete variable...so we will get the no of times Kohli has played against each opposition\n",
    "# a barplot can give the relation between a discrete (Opposition) and a continuous (Runs Scored) variable, but it does some\n",
    "# kind of aggregation (by default avg) on the continuous variable. we have to change it to sum to get the total runs scored"
   ]
  },
  {
   "cell_type": "code",
   "execution_count": 48,
   "id": "9d0db425",
   "metadata": {
    "scrolled": false
   },
   "outputs": [
    {
     "data": {
      "image/png": "[encoded data removed]",
      "text/plain": [
       "<Figure size 640x480 with 1 Axes>"
      ]
     },
     "metadata": {},
     "output_type": "display_data"
    }
   ],
   "source": [
    "sns.barplot(x='RunsScored',y='Opposition',estimator=np.sum,data=df,ci=None);"
   ]
  },
  {
   "cell_type": "code",
   "execution_count": 49,
   "id": "8c26900b",
   "metadata": {
    "scrolled": false
   },
   "outputs": [
    {
     "data": {
      "image/png": "[encoded data removed]",
      "text/plain": [
       "<Figure size 640x480 with 1 Axes>"
      ]
     },
     "metadata": {},
     "output_type": "display_data"
    }
   ],
   "source": [
    "sns.boxplot(data=df,y='Opposition',x='RunsScored');"
   ]
  },
  {
   "cell_type": "markdown",
   "id": "8253843b",
   "metadata": {},
   "source": [
    "# From the above plot we see that KOHLI has done well against Bangladesh & NZ"
   ]
  },
  {
   "cell_type": "code",
   "execution_count": 50,
   "id": "db4cc624",
   "metadata": {
    "scrolled": false
   },
   "outputs": [
    {
     "data": {
      "text/plain": [
       "64.0"
      ]
     },
     "execution_count": 50,
     "metadata": {},
     "output_type": "execute_result"
    }
   ],
   "source": [
    "df[df['Opposition']=='New Zealand']['RunsScored'].median()"
   ]
  },
  {
   "cell_type": "code",
   "execution_count": 51,
   "id": "6fd9411b",
   "metadata": {
    "scrolled": false
   },
   "outputs": [
    {
     "data": {
      "text/plain": [
       "66.0"
      ]
     },
     "execution_count": 51,
     "metadata": {},
     "output_type": "execute_result"
    }
   ],
   "source": [
    "df[df['Opposition']=='Bangladesh']['RunsScored'].median()"
   ]
  },
  {
   "cell_type": "code",
   "execution_count": 52,
   "id": "8e25585a",
   "metadata": {
    "scrolled": false
   },
   "outputs": [
    {
     "data": {
      "text/html": [
       "<div>\n",
       "<style scoped>\n",
       "    .dataframe tbody tr th:only-of-type {\n",
       "        vertical-align: middle;\n",
       "    }\n",
       "\n",
       "    .dataframe tbody tr th {\n",
       "        vertical-align: top;\n",
       "    }\n",
       "\n",
       "    .dataframe thead th {\n",
       "        text-align: right;\n",
       "    }\n",
       "</style>\n",
       "<table border=\"1\" class=\"dataframe\">\n",
       "  <thead>\n",
       "    <tr style=\"text-align: right;\">\n",
       "      <th></th>\n",
       "      <th>RunsScored</th>\n",
       "      <th>BallsFaced</th>\n",
       "      <th>BattingPosition</th>\n",
       "      <th>Dismissal</th>\n",
       "      <th>Inning</th>\n",
       "      <th>Opposition</th>\n",
       "      <th>Year</th>\n",
       "    </tr>\n",
       "  </thead>\n",
       "  <tbody>\n",
       "    <tr>\n",
       "      <th>0</th>\n",
       "      <td>12</td>\n",
       "      <td>22</td>\n",
       "      <td>2</td>\n",
       "      <td>LBW</td>\n",
       "      <td>1</td>\n",
       "      <td>Sri Lanka</td>\n",
       "      <td>2008</td>\n",
       "    </tr>\n",
       "    <tr>\n",
       "      <th>1</th>\n",
       "      <td>37</td>\n",
       "      <td>67</td>\n",
       "      <td>2</td>\n",
       "      <td>Caught</td>\n",
       "      <td>2</td>\n",
       "      <td>Sri Lanka</td>\n",
       "      <td>2008</td>\n",
       "    </tr>\n",
       "    <tr>\n",
       "      <th>2</th>\n",
       "      <td>25</td>\n",
       "      <td>38</td>\n",
       "      <td>1</td>\n",
       "      <td>Run out</td>\n",
       "      <td>1</td>\n",
       "      <td>Sri Lanka</td>\n",
       "      <td>2008</td>\n",
       "    </tr>\n",
       "    <tr>\n",
       "      <th>3</th>\n",
       "      <td>54</td>\n",
       "      <td>66</td>\n",
       "      <td>1</td>\n",
       "      <td>Bowled</td>\n",
       "      <td>1</td>\n",
       "      <td>Sri Lanka</td>\n",
       "      <td>2008</td>\n",
       "    </tr>\n",
       "    <tr>\n",
       "      <th>4</th>\n",
       "      <td>31</td>\n",
       "      <td>46</td>\n",
       "      <td>1</td>\n",
       "      <td>LBW</td>\n",
       "      <td>2</td>\n",
       "      <td>Sri Lanka</td>\n",
       "      <td>2008</td>\n",
       "    </tr>\n",
       "  </tbody>\n",
       "</table>\n",
       "</div>"
      ],
      "text/plain": [
       "   RunsScored  BallsFaced  BattingPosition Dismissal  Inning Opposition  Year\n",
       "0          12          22                2       LBW       1  Sri Lanka  2008\n",
       "1          37          67                2    Caught       2  Sri Lanka  2008\n",
       "2          25          38                1   Run out       1  Sri Lanka  2008\n",
       "3          54          66                1    Bowled       1  Sri Lanka  2008\n",
       "4          31          46                1       LBW       2  Sri Lanka  2008"
      ]
     },
     "execution_count": 52,
     "metadata": {},
     "output_type": "execute_result"
    }
   ],
   "source": [
    "df.head()"
   ]
  },
  {
   "cell_type": "markdown",
   "id": "95617b18",
   "metadata": {},
   "source": [
    "# Q. Compare the runs scored by KOHLI in the 1st innings vs 2nd innings"
   ]
  },
  {
   "cell_type": "markdown",
   "id": "92e66256",
   "metadata": {},
   "source": [
    "# Runs scored ......continuous\n",
    "# Innings....discrete"
   ]
  },
  {
   "cell_type": "code",
   "execution_count": 53,
   "id": "6e720a75",
   "metadata": {
    "scrolled": false
   },
   "outputs": [
    {
     "data": {
      "image/png": "[encoded data removed]",
      "text/plain": [
       "<Figure size 640x480 with 1 Axes>"
      ]
     },
     "metadata": {},
     "output_type": "display_data"
    }
   ],
   "source": [
    "sns.boxplot(data=df,x='Inning',y='RunsScored');"
   ]
  },
  {
   "cell_type": "markdown",
   "id": "ffe127db",
   "metadata": {},
   "source": [
    "# in the 2nd innings his Q1, median(Q2) and Q3 are higher...and there is a right skew in both and an outlier (very high score) in the 2nd innings"
   ]
  },
  {
   "cell_type": "markdown",
   "id": "2fe05477",
   "metadata": {},
   "source": [
    "# Comparison of Kohli batting performance before and after transformation"
   ]
  },
  {
   "cell_type": "markdown",
   "id": "b45ea4e8",
   "metadata": {},
   "source": [
    "# Q. Add a new column to the dataframe that will tell you whether that record is before or after transformation which took place after IPL 2012"
   ]
  },
  {
   "cell_type": "code",
   "execution_count": 54,
   "id": "b0502901",
   "metadata": {
    "scrolled": false
   },
   "outputs": [],
   "source": [
    "df['post_transform']=df['Year']>2012"
   ]
  },
  {
   "cell_type": "code",
   "execution_count": 55,
   "id": "2f6f6504",
   "metadata": {
    "scrolled": false
   },
   "outputs": [
    {
     "data": {
      "text/html": [
       "<div>\n",
       "<style scoped>\n",
       "    .dataframe tbody tr th:only-of-type {\n",
       "        vertical-align: middle;\n",
       "    }\n",
       "\n",
       "    .dataframe tbody tr th {\n",
       "        vertical-align: top;\n",
       "    }\n",
       "\n",
       "    .dataframe thead th {\n",
       "        text-align: right;\n",
       "    }\n",
       "</style>\n",
       "<table border=\"1\" class=\"dataframe\">\n",
       "  <thead>\n",
       "    <tr style=\"text-align: right;\">\n",
       "      <th></th>\n",
       "      <th>RunsScored</th>\n",
       "      <th>BallsFaced</th>\n",
       "      <th>BattingPosition</th>\n",
       "      <th>Dismissal</th>\n",
       "      <th>Inning</th>\n",
       "      <th>Opposition</th>\n",
       "      <th>Year</th>\n",
       "      <th>post_transform</th>\n",
       "    </tr>\n",
       "  </thead>\n",
       "  <tbody>\n",
       "    <tr>\n",
       "      <th>0</th>\n",
       "      <td>12</td>\n",
       "      <td>22</td>\n",
       "      <td>2</td>\n",
       "      <td>LBW</td>\n",
       "      <td>1</td>\n",
       "      <td>Sri Lanka</td>\n",
       "      <td>2008</td>\n",
       "      <td>False</td>\n",
       "    </tr>\n",
       "    <tr>\n",
       "      <th>1</th>\n",
       "      <td>37</td>\n",
       "      <td>67</td>\n",
       "      <td>2</td>\n",
       "      <td>Caught</td>\n",
       "      <td>2</td>\n",
       "      <td>Sri Lanka</td>\n",
       "      <td>2008</td>\n",
       "      <td>False</td>\n",
       "    </tr>\n",
       "    <tr>\n",
       "      <th>2</th>\n",
       "      <td>25</td>\n",
       "      <td>38</td>\n",
       "      <td>1</td>\n",
       "      <td>Run out</td>\n",
       "      <td>1</td>\n",
       "      <td>Sri Lanka</td>\n",
       "      <td>2008</td>\n",
       "      <td>False</td>\n",
       "    </tr>\n",
       "    <tr>\n",
       "      <th>3</th>\n",
       "      <td>54</td>\n",
       "      <td>66</td>\n",
       "      <td>1</td>\n",
       "      <td>Bowled</td>\n",
       "      <td>1</td>\n",
       "      <td>Sri Lanka</td>\n",
       "      <td>2008</td>\n",
       "      <td>False</td>\n",
       "    </tr>\n",
       "    <tr>\n",
       "      <th>4</th>\n",
       "      <td>31</td>\n",
       "      <td>46</td>\n",
       "      <td>1</td>\n",
       "      <td>LBW</td>\n",
       "      <td>2</td>\n",
       "      <td>Sri Lanka</td>\n",
       "      <td>2008</td>\n",
       "      <td>False</td>\n",
       "    </tr>\n",
       "  </tbody>\n",
       "</table>\n",
       "</div>"
      ],
      "text/plain": [
       "   RunsScored  BallsFaced  BattingPosition Dismissal  Inning Opposition  Year  \\\n",
       "0          12          22                2       LBW       1  Sri Lanka  2008   \n",
       "1          37          67                2    Caught       2  Sri Lanka  2008   \n",
       "2          25          38                1   Run out       1  Sri Lanka  2008   \n",
       "3          54          66                1    Bowled       1  Sri Lanka  2008   \n",
       "4          31          46                1       LBW       2  Sri Lanka  2008   \n",
       "\n",
       "   post_transform  \n",
       "0           False  \n",
       "1           False  \n",
       "2           False  \n",
       "3           False  \n",
       "4           False  "
      ]
     },
     "execution_count": 55,
     "metadata": {},
     "output_type": "execute_result"
    }
   ],
   "source": [
    "df.head()"
   ]
  },
  {
   "cell_type": "code",
   "execution_count": 56,
   "id": "81c88fc0",
   "metadata": {
    "scrolled": false
   },
   "outputs": [
    {
     "data": {
      "text/html": [
       "<div>\n",
       "<style scoped>\n",
       "    .dataframe tbody tr th:only-of-type {\n",
       "        vertical-align: middle;\n",
       "    }\n",
       "\n",
       "    .dataframe tbody tr th {\n",
       "        vertical-align: top;\n",
       "    }\n",
       "\n",
       "    .dataframe thead th {\n",
       "        text-align: right;\n",
       "    }\n",
       "</style>\n",
       "<table border=\"1\" class=\"dataframe\">\n",
       "  <thead>\n",
       "    <tr style=\"text-align: right;\">\n",
       "      <th></th>\n",
       "      <th>RunsScored</th>\n",
       "      <th>BallsFaced</th>\n",
       "      <th>BattingPosition</th>\n",
       "      <th>Dismissal</th>\n",
       "      <th>Inning</th>\n",
       "      <th>Opposition</th>\n",
       "      <th>Year</th>\n",
       "      <th>post_transform</th>\n",
       "    </tr>\n",
       "  </thead>\n",
       "  <tbody>\n",
       "    <tr>\n",
       "      <th>203</th>\n",
       "      <td>140</td>\n",
       "      <td>107</td>\n",
       "      <td>3</td>\n",
       "      <td>Stumped</td>\n",
       "      <td>2</td>\n",
       "      <td>West Indies</td>\n",
       "      <td>2018</td>\n",
       "      <td>True</td>\n",
       "    </tr>\n",
       "    <tr>\n",
       "      <th>204</th>\n",
       "      <td>157</td>\n",
       "      <td>129</td>\n",
       "      <td>3</td>\n",
       "      <td>NO</td>\n",
       "      <td>1</td>\n",
       "      <td>West Indies</td>\n",
       "      <td>2018</td>\n",
       "      <td>True</td>\n",
       "    </tr>\n",
       "    <tr>\n",
       "      <th>205</th>\n",
       "      <td>107</td>\n",
       "      <td>119</td>\n",
       "      <td>3</td>\n",
       "      <td>Bowled</td>\n",
       "      <td>2</td>\n",
       "      <td>West Indies</td>\n",
       "      <td>2018</td>\n",
       "      <td>True</td>\n",
       "    </tr>\n",
       "    <tr>\n",
       "      <th>206</th>\n",
       "      <td>16</td>\n",
       "      <td>17</td>\n",
       "      <td>3</td>\n",
       "      <td>Caught</td>\n",
       "      <td>1</td>\n",
       "      <td>West Indies</td>\n",
       "      <td>2018</td>\n",
       "      <td>True</td>\n",
       "    </tr>\n",
       "    <tr>\n",
       "      <th>207</th>\n",
       "      <td>33</td>\n",
       "      <td>29</td>\n",
       "      <td>3</td>\n",
       "      <td>NO</td>\n",
       "      <td>2</td>\n",
       "      <td>West Indies</td>\n",
       "      <td>2018</td>\n",
       "      <td>True</td>\n",
       "    </tr>\n",
       "  </tbody>\n",
       "</table>\n",
       "</div>"
      ],
      "text/plain": [
       "     RunsScored  BallsFaced  BattingPosition Dismissal  Inning   Opposition  \\\n",
       "203         140         107                3   Stumped       2  West Indies   \n",
       "204         157         129                3        NO       1  West Indies   \n",
       "205         107         119                3    Bowled       2  West Indies   \n",
       "206          16          17                3    Caught       1  West Indies   \n",
       "207          33          29                3        NO       2  West Indies   \n",
       "\n",
       "     Year  post_transform  \n",
       "203  2018            True  \n",
       "204  2018            True  \n",
       "205  2018            True  \n",
       "206  2018            True  \n",
       "207  2018            True  "
      ]
     },
     "execution_count": 56,
     "metadata": {},
     "output_type": "execute_result"
    }
   ],
   "source": [
    "df.tail()"
   ]
  },
  {
   "cell_type": "markdown",
   "id": "5a8a24bf",
   "metadata": {},
   "source": [
    "# Q. Use a boxplot to compare the runs scored before and after transformation"
   ]
  },
  {
   "cell_type": "code",
   "execution_count": 57,
   "id": "3f81cfac",
   "metadata": {
    "scrolled": false
   },
   "outputs": [
    {
     "data": {
      "image/png": "[encoded data removed]",
      "text/plain": [
       "<Figure size 640x480 with 1 Axes>"
      ]
     },
     "metadata": {},
     "output_type": "display_data"
    }
   ],
   "source": [
    "sns.boxplot(data=df,x='post_transform',y='RunsScored');"
   ]
  },
  {
   "cell_type": "markdown",
   "id": "345eeb4a",
   "metadata": {},
   "source": [
    "# From the above plot we see that his performance is better after transformation"
   ]
  },
  {
   "cell_type": "markdown",
   "id": "9c9aa409",
   "metadata": {},
   "source": [
    "# Q. Use a boxplot to compare the balls faced before and after transformation"
   ]
  },
  {
   "cell_type": "markdown",
   "id": "7b8e0ec4",
   "metadata": {},
   "source": [
    "# This is important because more balls faced means your endurance (ability to stay on the wickets) level is high"
   ]
  },
  {
   "cell_type": "code",
   "execution_count": 58,
   "id": "8c5ac156",
   "metadata": {
    "scrolled": false
   },
   "outputs": [
    {
     "data": {
      "text/html": [
       "<div>\n",
       "<style scoped>\n",
       "    .dataframe tbody tr th:only-of-type {\n",
       "        vertical-align: middle;\n",
       "    }\n",
       "\n",
       "    .dataframe tbody tr th {\n",
       "        vertical-align: top;\n",
       "    }\n",
       "\n",
       "    .dataframe thead th {\n",
       "        text-align: right;\n",
       "    }\n",
       "</style>\n",
       "<table border=\"1\" class=\"dataframe\">\n",
       "  <thead>\n",
       "    <tr style=\"text-align: right;\">\n",
       "      <th></th>\n",
       "      <th>RunsScored</th>\n",
       "      <th>BallsFaced</th>\n",
       "      <th>BattingPosition</th>\n",
       "      <th>Dismissal</th>\n",
       "      <th>Inning</th>\n",
       "      <th>Opposition</th>\n",
       "      <th>Year</th>\n",
       "      <th>post_transform</th>\n",
       "    </tr>\n",
       "  </thead>\n",
       "  <tbody>\n",
       "    <tr>\n",
       "      <th>0</th>\n",
       "      <td>12</td>\n",
       "      <td>22</td>\n",
       "      <td>2</td>\n",
       "      <td>LBW</td>\n",
       "      <td>1</td>\n",
       "      <td>Sri Lanka</td>\n",
       "      <td>2008</td>\n",
       "      <td>False</td>\n",
       "    </tr>\n",
       "    <tr>\n",
       "      <th>1</th>\n",
       "      <td>37</td>\n",
       "      <td>67</td>\n",
       "      <td>2</td>\n",
       "      <td>Caught</td>\n",
       "      <td>2</td>\n",
       "      <td>Sri Lanka</td>\n",
       "      <td>2008</td>\n",
       "      <td>False</td>\n",
       "    </tr>\n",
       "    <tr>\n",
       "      <th>2</th>\n",
       "      <td>25</td>\n",
       "      <td>38</td>\n",
       "      <td>1</td>\n",
       "      <td>Run out</td>\n",
       "      <td>1</td>\n",
       "      <td>Sri Lanka</td>\n",
       "      <td>2008</td>\n",
       "      <td>False</td>\n",
       "    </tr>\n",
       "    <tr>\n",
       "      <th>3</th>\n",
       "      <td>54</td>\n",
       "      <td>66</td>\n",
       "      <td>1</td>\n",
       "      <td>Bowled</td>\n",
       "      <td>1</td>\n",
       "      <td>Sri Lanka</td>\n",
       "      <td>2008</td>\n",
       "      <td>False</td>\n",
       "    </tr>\n",
       "    <tr>\n",
       "      <th>4</th>\n",
       "      <td>31</td>\n",
       "      <td>46</td>\n",
       "      <td>1</td>\n",
       "      <td>LBW</td>\n",
       "      <td>2</td>\n",
       "      <td>Sri Lanka</td>\n",
       "      <td>2008</td>\n",
       "      <td>False</td>\n",
       "    </tr>\n",
       "  </tbody>\n",
       "</table>\n",
       "</div>"
      ],
      "text/plain": [
       "   RunsScored  BallsFaced  BattingPosition Dismissal  Inning Opposition  Year  \\\n",
       "0          12          22                2       LBW       1  Sri Lanka  2008   \n",
       "1          37          67                2    Caught       2  Sri Lanka  2008   \n",
       "2          25          38                1   Run out       1  Sri Lanka  2008   \n",
       "3          54          66                1    Bowled       1  Sri Lanka  2008   \n",
       "4          31          46                1       LBW       2  Sri Lanka  2008   \n",
       "\n",
       "   post_transform  \n",
       "0           False  \n",
       "1           False  \n",
       "2           False  \n",
       "3           False  \n",
       "4           False  "
      ]
     },
     "execution_count": 58,
     "metadata": {},
     "output_type": "execute_result"
    }
   ],
   "source": [
    "df.head()"
   ]
  },
  {
   "cell_type": "code",
   "execution_count": 59,
   "id": "b5ab58dd",
   "metadata": {
    "scrolled": false
   },
   "outputs": [
    {
     "data": {
      "image/png": "[encoded data removed]",
      "text/plain": [
       "<Figure size 640x480 with 1 Axes>"
      ]
     },
     "metadata": {},
     "output_type": "display_data"
    }
   ],
   "source": [
    "sns.boxplot(data=df,x='post_transform',y='BallsFaced');"
   ]
  },
  {
   "cell_type": "markdown",
   "id": "b57ceaf2",
   "metadata": {},
   "source": [
    "# endurance has improved slightly but not too much....(only median is better but not q1 and q3)"
   ]
  },
  {
   "cell_type": "markdown",
   "id": "0eaf3bd6",
   "metadata": {},
   "source": [
    "# Q. Use a boxplot to compare runs scored before and after transformation innings wise"
   ]
  },
  {
   "cell_type": "markdown",
   "id": "3e15cc02",
   "metadata": {},
   "source": [
    "# There are two discrete and one continuous variable so hue must be used on innings"
   ]
  },
  {
   "cell_type": "code",
   "execution_count": 60,
   "id": "057d17fe",
   "metadata": {
    "scrolled": false
   },
   "outputs": [
    {
     "data": {
      "image/png": "[encoded data removed]",
      "text/plain": [
       "<Figure size 640x480 with 1 Axes>"
      ]
     },
     "metadata": {},
     "output_type": "display_data"
    }
   ],
   "source": [
    "sns.boxplot(data=df,x='post_transform',y='RunsScored',hue='Inning');"
   ]
  },
  {
   "cell_type": "markdown",
   "id": "f4d572d6",
   "metadata": {},
   "source": [
    "# there is significant improvement in innings 1 performance after transformation"
   ]
  },
  {
   "cell_type": "markdown",
   "id": "f5e6ae95",
   "metadata": {},
   "source": [
    "# Q. Use a barplot to compare the dismissal patterns before and after transformations"
   ]
  },
  {
   "cell_type": "markdown",
   "id": "0fcdec0d",
   "metadata": {},
   "source": [
    "# two discrete variables have to be compared so we will use a crosstab followed by bar plot"
   ]
  },
  {
   "cell_type": "code",
   "execution_count": 61,
   "id": "6a66eb8e",
   "metadata": {
    "scrolled": false
   },
   "outputs": [
    {
     "data": {
      "text/html": [
       "<div>\n",
       "<style scoped>\n",
       "    .dataframe tbody tr th:only-of-type {\n",
       "        vertical-align: middle;\n",
       "    }\n",
       "\n",
       "    .dataframe tbody tr th {\n",
       "        vertical-align: top;\n",
       "    }\n",
       "\n",
       "    .dataframe thead th {\n",
       "        text-align: right;\n",
       "    }\n",
       "</style>\n",
       "<table border=\"1\" class=\"dataframe\">\n",
       "  <thead>\n",
       "    <tr style=\"text-align: right;\">\n",
       "      <th>Dismissal</th>\n",
       "      <th>Bowled</th>\n",
       "      <th>Caught</th>\n",
       "      <th>Hit wicket</th>\n",
       "      <th>LBW</th>\n",
       "      <th>NO</th>\n",
       "      <th>Run out</th>\n",
       "      <th>Stumped</th>\n",
       "      <th>All</th>\n",
       "    </tr>\n",
       "    <tr>\n",
       "      <th>post_transform</th>\n",
       "      <th></th>\n",
       "      <th></th>\n",
       "      <th></th>\n",
       "      <th></th>\n",
       "      <th></th>\n",
       "      <th></th>\n",
       "      <th></th>\n",
       "      <th></th>\n",
       "    </tr>\n",
       "  </thead>\n",
       "  <tbody>\n",
       "    <tr>\n",
       "      <th>False</th>\n",
       "      <td>27.454545</td>\n",
       "      <td>42.000000</td>\n",
       "      <td>107.0</td>\n",
       "      <td>23.750000</td>\n",
       "      <td>82.166667</td>\n",
       "      <td>42.0</td>\n",
       "      <td>16.5</td>\n",
       "      <td>44.159091</td>\n",
       "    </tr>\n",
       "    <tr>\n",
       "      <th>True</th>\n",
       "      <td>56.400000</td>\n",
       "      <td>42.397260</td>\n",
       "      <td>NaN</td>\n",
       "      <td>40.000000</td>\n",
       "      <td>80.480000</td>\n",
       "      <td>50.0</td>\n",
       "      <td>107.5</td>\n",
       "      <td>52.883333</td>\n",
       "    </tr>\n",
       "    <tr>\n",
       "      <th>All</th>\n",
       "      <td>41.238095</td>\n",
       "      <td>42.239669</td>\n",
       "      <td>107.0</td>\n",
       "      <td>29.166667</td>\n",
       "      <td>81.027027</td>\n",
       "      <td>46.0</td>\n",
       "      <td>62.0</td>\n",
       "      <td>49.192308</td>\n",
       "    </tr>\n",
       "  </tbody>\n",
       "</table>\n",
       "</div>"
      ],
      "text/plain": [
       "Dismissal          Bowled     Caught  Hit wicket        LBW         NO  \\\n",
       "post_transform                                                           \n",
       "False           27.454545  42.000000       107.0  23.750000  82.166667   \n",
       "True            56.400000  42.397260         NaN  40.000000  80.480000   \n",
       "All             41.238095  42.239669       107.0  29.166667  81.027027   \n",
       "\n",
       "Dismissal       Run out  Stumped        All  \n",
       "post_transform                               \n",
       "False              42.0     16.5  44.159091  \n",
       "True               50.0    107.5  52.883333  \n",
       "All                46.0     62.0  49.192308  "
      ]
     },
     "execution_count": 61,
     "metadata": {},
     "output_type": "execute_result"
    }
   ],
   "source": [
    "pd.crosstab(index = df['post_transform'],columns=df['Dismissal'], values=df['RunsScored'],margins=True,aggfunc='mean')"
   ]
  },
  {
   "cell_type": "markdown",
   "id": "fee95536",
   "metadata": {},
   "source": [
    "# if we dont set margins = True we dont have to do the drop"
   ]
  },
  {
   "cell_type": "code",
   "execution_count": 62,
   "id": "0e5c834f",
   "metadata": {
    "scrolled": false
   },
   "outputs": [
    {
     "data": {
      "image/png": "[encoded data removed]",
      "text/plain": [
       "<Figure size 1000x600 with 1 Axes>"
      ]
     },
     "metadata": {},
     "output_type": "display_data"
    }
   ],
   "source": [
    "ct = pd.crosstab(index = df['post_transform'],columns=df['Dismissal'], values=df['RunsScored'],margins=True,aggfunc='mean')\n",
    "ct.drop('All',inplace = True)\n",
    "ct.drop('All',axis = 1,inplace = True)\n",
    "ct.plot.bar(figsize = (10,6))\n",
    "plt.ylabel(\"Average Run Scored\")\n",
    "plt.show()"
   ]
  },
  {
   "cell_type": "markdown",
   "id": "83f6fa27",
   "metadata": {},
   "source": [
    "# the avg runs score before and after transformation before getting out CAUGHT ...almost same\n",
    "# before getting out bowled....improved from 27 to 56\n",
    "# lbw....improved from 23 to 40"
   ]
  },
  {
   "cell_type": "markdown",
   "id": "1dc76d16",
   "metadata": {},
   "source": [
    "# Q. Use a pointplot to visualise the yearly trend in runs scored by KOHLI"
   ]
  },
  {
   "cell_type": "markdown",
   "id": "23ef70bf",
   "metadata": {},
   "source": [
    "# Pointplot will give the avg runs scored yearwise"
   ]
  },
  {
   "cell_type": "code",
   "execution_count": 63,
   "id": "df02c8cd",
   "metadata": {
    "scrolled": false
   },
   "outputs": [
    {
     "data": {
      "image/png": "[encoded data removed]",
      "text/plain": [
       "<Figure size 640x480 with 1 Axes>"
      ]
     },
     "metadata": {},
     "output_type": "display_data"
    }
   ],
   "source": [
    "sns.pointplot(data=df,x='Year',y='RunsScored');"
   ]
  },
  {
   "cell_type": "code",
   "execution_count": 64,
   "id": "3e3631ec",
   "metadata": {
    "scrolled": false
   },
   "outputs": [
    {
     "data": {
      "image/png": "[encoded data removed]",
      "text/plain": [
       "<Figure size 640x480 with 1 Axes>"
      ]
     },
     "metadata": {},
     "output_type": "display_data"
    }
   ],
   "source": [
    "sns.pointplot(data=df,x='Year',y='RunsScored',ci=False);"
   ]
  },
  {
   "cell_type": "markdown",
   "id": "c5bbf5f1",
   "metadata": {},
   "source": [
    "# Q. Can we say that there is a linear relation between runs scored and balls faced over different batting positions?"
   ]
  },
  {
   "cell_type": "markdown",
   "id": "e59be718",
   "metadata": {},
   "source": [
    "# runs scored and balls faced are continuous and batting positions is discrete"
   ]
  },
  {
   "cell_type": "code",
   "execution_count": 65,
   "id": "b4f13920",
   "metadata": {
    "scrolled": false
   },
   "outputs": [
    {
     "data": {
      "image/png": "[encoded data removed]",
      "text/plain": [
       "<Figure size 615.986x500 with 1 Axes>"
      ]
     },
     "metadata": {},
     "output_type": "display_data"
    }
   ],
   "source": [
    "sns.lmplot(data=df,x='RunsScored',y='BallsFaced',hue='BattingPosition');"
   ]
  },
  {
   "cell_type": "markdown",
   "id": "a5f26ef5",
   "metadata": {},
   "source": [
    "# There is a linear relationship between runs scored and balls faced at different batting positions\n",
    "# He has batted mostly at position 3"
   ]
  },
  {
   "cell_type": "markdown",
   "id": "f506fefa",
   "metadata": {},
   "source": [
    "# Q. How has the batting position changed with different oppositions yearly?"
   ]
  },
  {
   "cell_type": "code",
   "execution_count": 66,
   "id": "4f9d10b8",
   "metadata": {
    "scrolled": false
   },
   "outputs": [
    {
     "data": {
      "image/png": "[encoded data removed]",
      "text/plain": [
       "<Figure size 900x1200 with 12 Axes>"
      ]
     },
     "metadata": {},
     "output_type": "display_data"
    }
   ],
   "source": [
    "g = sns.FacetGrid(df, col=\"Opposition\", col_wrap=3, height=3)\n",
    "g = g.map(plt.plot, \"Year\", \"BattingPosition\", marker=\"*\")\n",
    "plt.show()"
   ]
  },
  {
   "cell_type": "code",
   "execution_count": null,
   "id": "cff3eab2",
   "metadata": {
    "scrolled": false
   },
   "outputs": [],
   "source": []
  }
 ],
 "metadata": {
  "kernelspec": {
   "display_name": "Python 3 (ipykernel)",
   "language": "python",
   "name": "python3"
  },
  "language_info": {
   "codemirror_mode": {
    "name": "ipython",
    "version": 3
   },
   "file_extension": ".py",
   "mimetype": "text/x-python",
   "name": "python",
   "nbconvert_exporter": "python",
   "pygments_lexer": "ipython3",
   "version": "3.9.13"
  }
 },
 "nbformat": 4,
 "nbformat_minor": 5
}
